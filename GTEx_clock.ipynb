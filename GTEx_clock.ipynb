{
 "cells": [
  {
   "cell_type": "code",
   "execution_count": 63,
   "metadata": {},
   "outputs": [],
   "source": [
    "import pickle\n",
    "import pyreadr\n",
    "import pandas as pd\n",
    "import numpy as np\n",
    "import scipy.stats as ss\n",
    "import seaborn as sns\n",
    "sns.set()\n",
    "from sklearn import decomposition\n",
    "from sklearn.decomposition import PCA\n",
    "from sklearn.linear_model import LassoCV\n",
    "from sklearn.datasets import make_regression\n",
    "import matplotlib.pyplot as plt\n",
    "import matplotlib.patches as mpatches\n",
    "title_fontsize = 20\n",
    "xlabel_fontsize = 18\n",
    "ylabel_fontsize = 18\n",
    "legend_fontsize = 14\n",
    "ticks_fontsize = 18\n",
    "figure_format = \"pdf\"\n",
    "%matplotlib inline"
   ]
  },
  {
   "cell_type": "code",
   "execution_count": 64,
   "metadata": {},
   "outputs": [],
   "source": [
    "# # below blocks are a poor attempt to recreate the necessary .pkl files for the load_data function later\n",
    "# import gzip\n",
    "# tpm_path= \"./GTEx_V8_RawData/GTEx_Analysis_2017-06-05_v8_RNASeQCv1.1.9_gene_tpm.gct.gz\"\n",
    "# f = gzip.open(tpm_path, 'rt')\n",
    "# file_content = f.read()"
   ]
  },
  {
   "cell_type": "code",
   "execution_count": 65,
   "metadata": {},
   "outputs": [],
   "source": [
    "# # f1 = open(\"GTEx_Analysis_2017-06-05_v8_RNASeQCv1.1.9_gene_tpm.gct\", \"w\")\n",
    "# # f1.write(file_content)\n",
    "# # f1.close()\n",
    "\n",
    "# # from cmapPy.pandasGEXpress.parse_gct import parse\n",
    "# # tpm_data = parse(file_content)\n",
    "\n",
    "# # from io import StringIO\n",
    "\n",
    "# # s = str(file_content,'utf-8')\n",
    "# # data = StringIO(s) \n",
    "\n",
    "# # much too slow\n",
    "# tpm_data = pd.read_csv(data, delimiter='\\t', skiprows=2)\n",
    "# print(list(tpm_data.columns))"
   ]
  },
  {
   "cell_type": "markdown",
   "metadata": {},
   "source": [
    "## Load metadata for samples and subjects in GTEx"
   ]
  },
  {
   "cell_type": "code",
   "execution_count": 66,
   "metadata": {},
   "outputs": [],
   "source": [
    "# load sample metadata: 18220 samples, 73 technnical parameters\n",
    "sampleMetaData = pd.read_csv('./GTEx_V8_RawData/GTEx_Analysis_v8_Annotations_SampleAttributesDS.txt', sep = '\\t', header = 'infer', index_col=0)\n",
    "# load sample metadata: 948 people, 174 phenotipic parameters\n",
    "subjectMetaData = pd.read_csv('./GTEx_V8_RawData/GTEx_Analysis_v8_Annotations_SubjectPhenotypesDS.txt', sep = '\\t', header = 'infer', index_col=0)"
   ]
  },
  {
   "cell_type": "markdown",
   "metadata": {},
   "source": [
    "## Load data by tissue"
   ]
  },
  {
   "cell_type": "code",
   "execution_count": 67,
   "metadata": {},
   "outputs": [],
   "source": [
    "def load_data(tissue):\n",
    "    \"\"\" Load gene expression for each tissue.\n",
    "    \n",
    "     Parameters\n",
    "    ----------\n",
    "    tissue: one of GTEx tissues\n",
    "    \n",
    "     Outputs\n",
    "    ----------\n",
    "    data : pd.DataFrame\n",
    "        genes x samples dataframe\n",
    "    age : np.array, int\n",
    "        age of each subject who provided the sample for the tissue\n",
    "    SMRIN : np.array, float\n",
    "        RIN number (RNA integrity number) for each sample\n",
    "    SMTSISCH : np.array, int\n",
    "        total ischemic time for each sample\n",
    "    \"\"\"\n",
    "    \n",
    "    print(tissue)\n",
    "    data_p_file = \"./GTEx_V8_RNASeq_subTissueTypes/Expr_by_tissue/Expr_by_tissue/GTEx_Analysis_2017-06-05_v8_RNASeQCv1.1.9_gene_tpm_\"+\\\n",
    "    str(tissue)+\".pkl\"\n",
    "    data = pd.read_pickle(data_p_file)\n",
    "    # replace with RData ??\n",
    "#     data_p_file = \"./GTEx_V8_RNASeq_subTissueTypes/GTEx_\" + str(tissue) + \".RData\"\n",
    "#     data = pyreadr.read_r(data_p_file)\n",
    "#     print(data.keys())\n",
    "#     for key in data.keys():\n",
    "#         print(data[key])\n",
    "    \n",
    "    gene_ids = data['Name']\n",
    "    gene_names = data['Description']\n",
    "    data.index = gene_ids\n",
    "    data = data.iloc[:,2:]\n",
    "    print(data.shape[1], \" samples, \", data.shape[0], \"genes\")\n",
    "    \n",
    "    # filter out genes that are expressed in fewer than 10% of samples\n",
    "    data = data[(data.T == 0).sum()<0.1*data.shape[1]]\n",
    "    print(str(len((data.T == 0).sum()>0.1*data.shape[1])) + \" genes filtered out\")\n",
    "    \n",
    "    # filter out samples that express fewer than 10% of genes\n",
    "    data = data.loc[:,data.columns[(pd.isna(data)).sum()<0.1*data.shape[0]]]\n",
    "    print(str(len(data.columns[(pd.isna(data)).sum()>0.1*data.shape[0]])) + \" samples filtered out\")\n",
    "    \n",
    "    # load age, SNRIN, and SMTSUSCH values for each subject\n",
    "    subject_ids = [subject_id.split(\"-\")[0]+\"-\"+subject_id.split(\"-\")[1] for subject_id in \\\n",
    "     data.columns.tolist()]\n",
    "    age = [np.asarray(subjectMetaData.loc[subjectMetaData.index==subject_id,'AGE'])[0] \\\n",
    "                   for subject_id in subject_ids]\n",
    "    SMRIN = [np.asarray(sampleMetaData.loc[sampleMetaData.index==sample_id,'SMRIN'])[0] \\\n",
    "                   for sample_id in data.columns.tolist()]\n",
    "    SMTSISCH = [np.asarray(sampleMetaData.loc[sampleMetaData.index==sample_id,'SMTSISCH'])[0] \\\n",
    "                   for sample_id in data.columns.tolist()]\n",
    "    return data, age, SMRIN, SMTSISCH"
   ]
  },
  {
   "cell_type": "markdown",
   "metadata": {},
   "source": [
    "## Load and filter data"
   ]
  },
  {
   "cell_type": "markdown",
   "metadata": {},
   "source": [
    "Choosing tissues that have > 800 samples (8 tissues in GTEx). It is arbitrary, so you can choose a lower threshold to study more tissues if your age prediciton model works even for fewer samples"
   ]
  },
  {
   "cell_type": "code",
   "execution_count": 68,
   "metadata": {},
   "outputs": [],
   "source": [
    "# tissues = ['Muscle',\n",
    "#  'Blood Vessel',\n",
    "#  'Brain',\n",
    "#  'Blood',\n",
    "#  'Skin',\n",
    "#  'Esophagus',\n",
    "#  'Heart',\n",
    "#  'Adipose Tissue']\n",
    "tissues = ['Muscle', 'Blood Vessel']"
   ]
  },
  {
   "cell_type": "code",
   "execution_count": 69,
   "metadata": {
    "scrolled": false
   },
   "outputs": [
    {
     "name": "stdout",
     "output_type": "stream",
     "text": [
      "Muscle\n",
      "804  samples,  56200 genes\n",
      "19544 genes filtered out\n",
      "0 samples filtered out\n",
      "Blood Vessel\n",
      "1335  samples,  56200 genes\n",
      "21218 genes filtered out\n",
      "0 samples filtered out\n"
     ]
    }
   ],
   "source": [
    "data = {}\n",
    "age = {}\n",
    "SMRIN = {}\n",
    "SMTSISCH = {}\n",
    "\n",
    "for tissue in tissues:\n",
    "    data[tissue], age[tissue], SMRIN[tissue], SMTSISCH[tissue] = load_data(tissue)"
   ]
  },
  {
   "cell_type": "markdown",
   "metadata": {},
   "source": [
    "## Correct for covariates and remove outliers"
   ]
  },
  {
   "cell_type": "markdown",
   "metadata": {},
   "source": [
    "### Find genes with weak correlation with age"
   ]
  },
  {
   "cell_type": "code",
   "execution_count": 70,
   "metadata": {},
   "outputs": [],
   "source": [
    "def define_non_age_related_genes(data, age):\n",
    "    rhos = np.zeros((len(data.index.tolist())))\n",
    "    spear_pvals = np.zeros((len(data.index.tolist())))\n",
    "    for i, gene in enumerate(data.index.tolist()):\n",
    "        rhos[i], spear_pvals[i] = ss.spearmanr(data.loc[gene,:], age, nan_policy = 'omit')\n",
    "    gene_idxs = range(data.shape[0])\n",
    "    gene_idxs = [gene_idx for gene_idx in gene_idxs if spear_pvals[gene_idx]>0.01]\n",
    "    print(str(len(gene_idxs)) + \" genes with no correlation with age\")\n",
    "    non_aging_expr = data.iloc[gene_idxs,:]\n",
    "    return(non_aging_expr)"
   ]
  },
  {
   "cell_type": "markdown",
   "metadata": {},
   "source": [
    "### Perform SVD (singular value decomposition) of non-age related gene expression"
   ]
  },
  {
   "cell_type": "code",
   "execution_count": 71,
   "metadata": {},
   "outputs": [],
   "source": [
    "def svd(non_aging_expr, n_comp = 50):\n",
    "    u, s, vh  = np.linalg.svd(non_aging_expr.transpose())\n",
    "    d2 = s**2\n",
    "    print(\"first \" + str(n_comp) + \" components explain \" + str(d2[:n_comp].sum()/d2.sum()) + \" variability\")\n",
    "    print(u.shape)\n",
    "    u_top_10 = u[:n_comp,:]\n",
    "    x_0 = u_top_10*s\n",
    "    return(x_0)"
   ]
  },
  {
   "cell_type": "markdown",
   "metadata": {},
   "source": [
    "### Regress out non-age-related covariates"
   ]
  },
  {
   "cell_type": "code",
   "execution_count": 72,
   "metadata": {},
   "outputs": [],
   "source": [
    "import sklearn.linear_model as linear_model\n",
    "def linear_regression(x_train, y_train):\n",
    "    ols = linear_model.LinearRegression()\n",
    "    model = ols.fit(x_train, y_train)\n",
    "    return ols.coef_, ols.intercept_, ols.predict(x_train)\n",
    "\n",
    "def regress_covariates(data, x_0):\n",
    "    coeffs, intercepts, prediction = linear_regression(x_0.transpose(), data.transpose()) \n",
    "    residual = (data.transpose()-np.asmatrix(x_0.transpose())*coeffs.transpose()).transpose()\n",
    "    return residual"
   ]
  },
  {
   "cell_type": "markdown",
   "metadata": {},
   "source": [
    "### Exclude non-age-related genes"
   ]
  },
  {
   "cell_type": "code",
   "execution_count": 73,
   "metadata": {},
   "outputs": [],
   "source": [
    "def exclude_non_age_related_genes(residual, gene_idxs):\n",
    "    aging_gene_idxs = [i for i in range(len(residual.index)) if i not in gene_idxs]\n",
    "    residual_aging = residual.iloc[aging_gene_idxs,:]\n",
    "    return(residual_aging)"
   ]
  },
  {
   "cell_type": "markdown",
   "metadata": {},
   "source": [
    "### Remove outliers"
   ]
  },
  {
   "cell_type": "code",
   "execution_count": 74,
   "metadata": {},
   "outputs": [],
   "source": [
    "def plot_PCA(X, ax, tissue):\n",
    "    for i in range(len(X[:, 0])):\n",
    "        ax.scatter(X[i, 0], X[i, 1], color = 'C0')\n",
    "    ax.set_title(tissue, fontsize = title_fontsize)\n",
    "    ax.set_xlabel('PC1', fontsize = xlabel_fontsize)\n",
    "    ax.set_xlabel('PC2', fontsize = ylabel_fontsize)"
   ]
  },
  {
   "cell_type": "code",
   "execution_count": 75,
   "metadata": {},
   "outputs": [],
   "source": [
    "from sklearn import decomposition\n",
    "def detect_outliers(residual_aging, tissue):\n",
    "    pca = decomposition.PCA(n_components=2)\n",
    "    X = residual_aging.transpose().copy()\n",
    "    pca.fit(X)\n",
    "    X = pca.transform(X)\n",
    "    fig, ax = plt.subplots(1, 1, figsize=(7, 5))\n",
    "    plot_PCA(X, ax, tissue)\n",
    "    q1 = pd.DataFrame(X[:, 0]).quantile(0.999)\n",
    "    q2 = pd.DataFrame(X[:, 1]).quantile(0.999)\n",
    "    print(q1[0])\n",
    "    print(q2[0])\n",
    "    residual_no_outliers = residual_aging.iloc[:,np.asarray([j for j in \\\n",
    "                                                             range(len(residual_aging.columns)) \\\n",
    "                                                             if X[j, 0] < q1[0] and X[j, 1] < q2[0]])]\n",
    "    print(str(residual_aging.shape[0] - residual_no_outliers.shape[0]) + \" outliers removed\")\n",
    "    \n",
    "    subj_ids = [subject_id.split(\"-\")[0]+\"-\"+subject_id.split(\"-\")[1] for subject_id in \\\n",
    "                residual_no_outliers.columns.tolist()]\n",
    "    ages = [np.asarray(subjectMetaData.loc[subjectMetaData.index==subject_id,'AGE'])[0] \\\n",
    "                   for subject_id in subj_ids]\n",
    "    SMRINs = [np.asarray(sampleMetaData.loc[sampleMetaData.index==sample_id,'SMRIN'])[0] \\\n",
    "                   for sample_id in residual_no_outliers.columns.tolist()]\n",
    "    SMTSISCHs = [np.asarray(sampleMetaData.loc[sampleMetaData.index==sample_id,'SMTSISCH'])[0] \\\n",
    "                   for sample_id in residual_no_outliers.columns.tolist()]\n",
    "    return residual_no_outliers, ages, SMRINs, SMTSISCHs"
   ]
  },
  {
   "cell_type": "code",
   "execution_count": 78,
   "metadata": {},
   "outputs": [
    {
     "name": "stdout",
     "output_type": "stream",
     "text": [
      "Muscle\n",
      "11379 genes with no correlation with age\n",
      "first 50 components explain 0.9993938691231737 variability\n",
      "(803, 803)\n",
      "68831.38631229734\n",
      "76475.45478415373\n",
      "0 outliers removed\n",
      "Blood Vessel\n",
      "11501 genes with no correlation with age\n",
      "first 50 components explain 0.9963441647533411 variability\n",
      "(1335, 1335)\n",
      "102241.44936711647\n",
      "25712.851672119512\n",
      "0 outliers removed\n"
     ]
    },
    {
     "data": {
      "image/png": "[encoded data removed]",
      "text/plain": [
       "<Figure size 504x360 with 1 Axes>"
      ]
     },
     "metadata": {
      "needs_background": "light"
     },
     "output_type": "display_data"
    },
    {
     "data": {
      "image/png": "[encoded data removed]",
      "text/plain": [
       "<Figure size 504x360 with 1 Axes>"
      ]
     },
     "metadata": {
      "needs_background": "light"
     },
     "output_type": "display_data"
    }
   ],
   "source": [
    "non_aging_expr = {}\n",
    "x_0 = {}\n",
    "residual = {}\n",
    "residual_aging = {}\n",
    "residual_no_outliers = {}\n",
    "ages = {}\n",
    "SMRINs = {}\n",
    "SMTSISCHs = {}\n",
    "\n",
    "for i, tissue in enumerate(tissues):\n",
    "        print(tissue)\n",
    "        \n",
    "        non_aging_expr[tissue] = define_non_age_related_genes(data[tissue], age[tissue])\n",
    "        x_0[tissue] = svd(non_aging_expr[tissue], n_comp=50)\n",
    "        residual[tissue] = regress_covariates(data[tissue], x_0[tissue])\n",
    "        residual_aging[tissue] = exclude_non_age_related_genes(residual[tissue], \\\n",
    "                                                               non_aging_expr[tissue].index.tolist())\n",
    "        residual_no_outliers[tissue], ages[tissue], SMRINs[tissue], SMTSISCHs[tissue] = \\\n",
    "        detect_outliers(residual_aging[tissue], tissue)"
   ]
  },
  {
   "cell_type": "markdown",
   "metadata": {},
   "source": [
    "## Build the model predicting age with Lasso"
   ]
  },
  {
   "cell_type": "code",
   "execution_count": 79,
   "metadata": {},
   "outputs": [],
   "source": [
    "def split_train_valid_test(num_examples,training_proportion,validation_proportion,test_proportion):\n",
    "    assert training_proportion<=1.0\n",
    "    assert validation_proportion<=1.0\n",
    "    assert test_proportion<=1.0\n",
    "    assert (training_proportion+validation_proportion+test_proportion)<=1.0\n",
    "\n",
    "    idx_shuff=np.random.RandomState(seed=77).permutation(range(num_examples))\n",
    "\n",
    "    training_threshold=int(num_examples*training_proportion)\n",
    "    validation_threshold=int(num_examples*(training_proportion+validation_proportion))\n",
    "\n",
    "    training=range(training_threshold)\n",
    "    validation=range(training_threshold,min(validation_threshold,num_examples))\n",
    "    test=range(validation_threshold,num_examples)\n",
    "\n",
    "    return(idx_shuff[list(training)],idx_shuff[list(validation)],idx_shuff[list(test)])"
   ]
  },
  {
   "cell_type": "code",
   "execution_count": 80,
   "metadata": {},
   "outputs": [],
   "source": [
    "def fit_lasso_model(residual_no_outliers, ages, tol):\n",
    "    \"\"\" Build an age predictor with the lasso model and estimate its performance.\n",
    "    \n",
    "     Parameters\n",
    "    ----------\n",
    "    residual_no_outliers: pd.DataFrame\n",
    "        gene expression for a tissue after all preprocessing: \\\n",
    "        - QC of genes and samples\n",
    "        - regression of technical and phenotipic covariates explaining most of the variability \\\n",
    "            (except age, we need this variability, so we don't regress it out)\n",
    "        - removal of outliers\n",
    "    ages : np.array, int\n",
    "        ages of samples in a tissue gene expression matrix\n",
    "    tol : float, default=1e-4\n",
    "        tolerance for the optimization in the lasso model\n",
    "        \n",
    "     Outputs\n",
    "    ----------\n",
    "    genes : np.array, str\n",
    "        genes that are predictive of the age according to the lasso model\n",
    "    score : float\n",
    "        coefficient of determination R^2 of the prediction\n",
    "    pearsonr : float\n",
    "        Pearson's correlation coefficient\n",
    "    ages_test : np.array, int\n",
    "        true ages for the test set\n",
    "    ages_pred_test : np.array, int\n",
    "        predicted ages for the test set\n",
    "    \"\"\"\n",
    "    ages_all = ages\n",
    "    \n",
    "    # built the age prediction model with the lasso algorithm with cross-validation\n",
    "    X = residual_no_outliers.transpose()\n",
    "    y = ages_all\n",
    "    \n",
    "    # you can try a different model here\n",
    "    reg = LassoCV(cv=5, random_state=0, tol = tol).fit(X, y)\n",
    "    score = reg.score(X, y)\n",
    "    \n",
    "    # select genes predictive of age chosen by the lasso model\n",
    "    genes = [residual_no_outliers.index[i] for i in range(residual_no_outliers.shape[0]) if reg.coef_[i]!=0]\n",
    "    expr_sel_genes = residual_no_outliers.loc[genes,:]\n",
    "    \n",
    "    # split dataset into training, validation, and test sets\n",
    "    train, test, val = split_train_valid_test(residual_no_outliers.shape[1], 0.7, 0.3, 0)\n",
    "    ages_train = np.asarray([ages[i] for i in train])\n",
    "    ages_test = np.asarray([ages[i] for i in test])\n",
    "    \n",
    "    # calculate age predicted by the model and \n",
    "    # correlation of the predicted age with chronological age\n",
    "    coeffs_final, intercepts_final, prediction_final = \\\n",
    "    linear_regression(expr_sel_genes.iloc[:,train].transpose(), ages_train) \n",
    "    ages_pred_test = intercepts_final + \\\n",
    "    np.asmatrix(expr_sel_genes.iloc[:,test].transpose())*np.asmatrix(coeffs_final).transpose()\n",
    "    ages_pred_test = [np.asarray(age)[0][0] for age in ages_pred_test]\n",
    "    pearsonr = ss.pearsonr(ages_pred_test, ages_test)\n",
    "    print(pearsonr)\n",
    "    \n",
    "    # plot clock prediction\n",
    "    fig, ax = plt.subplots(1, 1, figsize=(7, 5))\n",
    "    ax.scatter(ages_test, ages_pred_test)\n",
    "    ax.set_xlabel(\"Chronological age, years\", fontsize = xlabel_fontsize)\n",
    "    ax.set_ylabel(\"Predicted age, years\", fontsize = ylabel_fontsize)\n",
    "    ax.set_title(str(tissue),  fontsize = title_fontsize)\n",
    "    textstr = \"Pearson's r=\" + str(round(pearsonr[0],2))\n",
    "    props = dict(boxstyle='round', facecolor='wheat', alpha=0.5)\n",
    "    ax.text(0.05, 0.95, textstr, transform=ax.transAxes, fontsize=14, verticalalignment='top', bbox=props)\n",
    "    plt.tight_layout()\n",
    "    pp = \"/om2/user/elvira/figures/Aging_clock/Clock_\" + str(tissue) + figure_format\n",
    "#     plt.savefig(pp, format = figure_format)\n",
    "    return(genes, score, pearsonr, ages_test, ages_pred_test)"
   ]
  },
  {
   "cell_type": "code",
   "execution_count": 81,
   "metadata": {
    "scrolled": false
   },
   "outputs": [
    {
     "name": "stdout",
     "output_type": "stream",
     "text": [
      "Muscle\n"
     ]
    },
    {
     "ename": "ValueError",
     "evalue": "could not convert string to float: '60-69'",
     "output_type": "error",
     "traceback": [
      "\u001b[1;31m---------------------------------------------------------------------------\u001b[0m",
      "\u001b[1;31mValueError\u001b[0m                                Traceback (most recent call last)",
      "\u001b[1;32m<ipython-input-81-f15a755c1fab>\u001b[0m in \u001b[0;36m<module>\u001b[1;34m\u001b[0m\n\u001b[0;32m      7\u001b[0m     \u001b[0mprint\u001b[0m\u001b[1;33m(\u001b[0m\u001b[0mtissue\u001b[0m\u001b[1;33m)\u001b[0m\u001b[1;33m\u001b[0m\u001b[1;33m\u001b[0m\u001b[0m\n\u001b[0;32m      8\u001b[0m     \u001b[0mgenes_clock\u001b[0m\u001b[1;33m[\u001b[0m\u001b[0mtissue\u001b[0m\u001b[1;33m]\u001b[0m\u001b[1;33m,\u001b[0m \u001b[0mscore\u001b[0m\u001b[1;33m[\u001b[0m\u001b[0mtissue\u001b[0m\u001b[1;33m]\u001b[0m\u001b[1;33m,\u001b[0m \u001b[0mpearson_corr\u001b[0m\u001b[1;33m[\u001b[0m\u001b[0mtissue\u001b[0m\u001b[1;33m]\u001b[0m\u001b[1;33m,\u001b[0m \u001b[0mtrue\u001b[0m\u001b[1;33m[\u001b[0m\u001b[0mtissue\u001b[0m\u001b[1;33m]\u001b[0m\u001b[1;33m,\u001b[0m \u001b[0mprediction\u001b[0m\u001b[1;33m[\u001b[0m\u001b[0mtissue\u001b[0m\u001b[1;33m]\u001b[0m \u001b[1;33m=\u001b[0m\u001b[0;31m \u001b[0m\u001b[0;31m\\\u001b[0m\u001b[1;33m\u001b[0m\u001b[1;33m\u001b[0m\u001b[0m\n\u001b[1;32m----> 9\u001b[1;33m     \u001b[0mfit_lasso_model\u001b[0m\u001b[1;33m(\u001b[0m\u001b[0mresidual_no_outliers\u001b[0m\u001b[1;33m[\u001b[0m\u001b[0mtissue\u001b[0m\u001b[1;33m]\u001b[0m\u001b[1;33m,\u001b[0m \u001b[0mages\u001b[0m\u001b[1;33m[\u001b[0m\u001b[0mtissue\u001b[0m\u001b[1;33m]\u001b[0m\u001b[1;33m,\u001b[0m \u001b[0mtol\u001b[0m\u001b[1;33m=\u001b[0m\u001b[1;36m0.1\u001b[0m\u001b[1;33m)\u001b[0m\u001b[1;33m\u001b[0m\u001b[1;33m\u001b[0m\u001b[0m\n\u001b[0m",
      "\u001b[1;32m<ipython-input-80-cef1aa9f77cd>\u001b[0m in \u001b[0;36mfit_lasso_model\u001b[1;34m(residual_no_outliers, ages, tol)\u001b[0m\n\u001b[0;32m     35\u001b[0m \u001b[1;33m\u001b[0m\u001b[0m\n\u001b[0;32m     36\u001b[0m     \u001b[1;31m# you can try a different model here\u001b[0m\u001b[1;33m\u001b[0m\u001b[1;33m\u001b[0m\u001b[1;33m\u001b[0m\u001b[0m\n\u001b[1;32m---> 37\u001b[1;33m     \u001b[0mreg\u001b[0m \u001b[1;33m=\u001b[0m \u001b[0mLassoCV\u001b[0m\u001b[1;33m(\u001b[0m\u001b[0mcv\u001b[0m\u001b[1;33m=\u001b[0m\u001b[1;36m5\u001b[0m\u001b[1;33m,\u001b[0m \u001b[0mrandom_state\u001b[0m\u001b[1;33m=\u001b[0m\u001b[1;36m0\u001b[0m\u001b[1;33m,\u001b[0m \u001b[0mtol\u001b[0m \u001b[1;33m=\u001b[0m \u001b[0mtol\u001b[0m\u001b[1;33m)\u001b[0m\u001b[1;33m.\u001b[0m\u001b[0mfit\u001b[0m\u001b[1;33m(\u001b[0m\u001b[0mX\u001b[0m\u001b[1;33m,\u001b[0m \u001b[0my\u001b[0m\u001b[1;33m)\u001b[0m\u001b[1;33m\u001b[0m\u001b[1;33m\u001b[0m\u001b[0m\n\u001b[0m\u001b[0;32m     38\u001b[0m     \u001b[0mscore\u001b[0m \u001b[1;33m=\u001b[0m \u001b[0mreg\u001b[0m\u001b[1;33m.\u001b[0m\u001b[0mscore\u001b[0m\u001b[1;33m(\u001b[0m\u001b[0mX\u001b[0m\u001b[1;33m,\u001b[0m \u001b[0my\u001b[0m\u001b[1;33m)\u001b[0m\u001b[1;33m\u001b[0m\u001b[1;33m\u001b[0m\u001b[0m\n\u001b[0;32m     39\u001b[0m \u001b[1;33m\u001b[0m\u001b[0m\n",
      "\u001b[1;32mc:\\python37\\lib\\site-packages\\sklearn\\linear_model\\_coordinate_descent.py\u001b[0m in \u001b[0;36mfit\u001b[1;34m(self, X, y)\u001b[0m\n\u001b[0;32m   1069\u001b[0m         \"\"\"\n\u001b[0;32m   1070\u001b[0m         y = check_array(y, copy=False, dtype=[np.float64, np.float32],\n\u001b[1;32m-> 1071\u001b[1;33m                         ensure_2d=False)\n\u001b[0m\u001b[0;32m   1072\u001b[0m         \u001b[1;32mif\u001b[0m \u001b[0my\u001b[0m\u001b[1;33m.\u001b[0m\u001b[0mshape\u001b[0m\u001b[1;33m[\u001b[0m\u001b[1;36m0\u001b[0m\u001b[1;33m]\u001b[0m \u001b[1;33m==\u001b[0m \u001b[1;36m0\u001b[0m\u001b[1;33m:\u001b[0m\u001b[1;33m\u001b[0m\u001b[1;33m\u001b[0m\u001b[0m\n\u001b[0;32m   1073\u001b[0m             \u001b[1;32mraise\u001b[0m \u001b[0mValueError\u001b[0m\u001b[1;33m(\u001b[0m\u001b[1;34m\"y has 0 samples: %r\"\u001b[0m \u001b[1;33m%\u001b[0m \u001b[0my\u001b[0m\u001b[1;33m)\u001b[0m\u001b[1;33m\u001b[0m\u001b[1;33m\u001b[0m\u001b[0m\n",
      "\u001b[1;32mc:\\python37\\lib\\site-packages\\sklearn\\utils\\validation.py\u001b[0m in \u001b[0;36mcheck_array\u001b[1;34m(array, accept_sparse, accept_large_sparse, dtype, order, copy, force_all_finite, ensure_2d, allow_nd, ensure_min_samples, ensure_min_features, warn_on_dtype, estimator)\u001b[0m\n\u001b[0;32m    513\u001b[0m                     \u001b[0marray\u001b[0m \u001b[1;33m=\u001b[0m \u001b[0marray\u001b[0m\u001b[1;33m.\u001b[0m\u001b[0mastype\u001b[0m\u001b[1;33m(\u001b[0m\u001b[0mdtype\u001b[0m\u001b[1;33m,\u001b[0m \u001b[0mcasting\u001b[0m\u001b[1;33m=\u001b[0m\u001b[1;34m\"unsafe\"\u001b[0m\u001b[1;33m,\u001b[0m \u001b[0mcopy\u001b[0m\u001b[1;33m=\u001b[0m\u001b[1;32mFalse\u001b[0m\u001b[1;33m)\u001b[0m\u001b[1;33m\u001b[0m\u001b[1;33m\u001b[0m\u001b[0m\n\u001b[0;32m    514\u001b[0m                 \u001b[1;32melse\u001b[0m\u001b[1;33m:\u001b[0m\u001b[1;33m\u001b[0m\u001b[1;33m\u001b[0m\u001b[0m\n\u001b[1;32m--> 515\u001b[1;33m                     \u001b[0marray\u001b[0m \u001b[1;33m=\u001b[0m \u001b[0mnp\u001b[0m\u001b[1;33m.\u001b[0m\u001b[0masarray\u001b[0m\u001b[1;33m(\u001b[0m\u001b[0marray\u001b[0m\u001b[1;33m,\u001b[0m \u001b[0morder\u001b[0m\u001b[1;33m=\u001b[0m\u001b[0morder\u001b[0m\u001b[1;33m,\u001b[0m \u001b[0mdtype\u001b[0m\u001b[1;33m=\u001b[0m\u001b[0mdtype\u001b[0m\u001b[1;33m)\u001b[0m\u001b[1;33m\u001b[0m\u001b[1;33m\u001b[0m\u001b[0m\n\u001b[0m\u001b[0;32m    516\u001b[0m             \u001b[1;32mexcept\u001b[0m \u001b[0mComplexWarning\u001b[0m\u001b[1;33m:\u001b[0m\u001b[1;33m\u001b[0m\u001b[1;33m\u001b[0m\u001b[0m\n\u001b[0;32m    517\u001b[0m                 raise ValueError(\"Complex data not supported\\n\"\n",
      "\u001b[1;32mc:\\python37\\lib\\site-packages\\numpy\\core\\_asarray.py\u001b[0m in \u001b[0;36masarray\u001b[1;34m(a, dtype, order)\u001b[0m\n\u001b[0;32m     83\u001b[0m \u001b[1;33m\u001b[0m\u001b[0m\n\u001b[0;32m     84\u001b[0m     \"\"\"\n\u001b[1;32m---> 85\u001b[1;33m     \u001b[1;32mreturn\u001b[0m \u001b[0marray\u001b[0m\u001b[1;33m(\u001b[0m\u001b[0ma\u001b[0m\u001b[1;33m,\u001b[0m \u001b[0mdtype\u001b[0m\u001b[1;33m,\u001b[0m \u001b[0mcopy\u001b[0m\u001b[1;33m=\u001b[0m\u001b[1;32mFalse\u001b[0m\u001b[1;33m,\u001b[0m \u001b[0morder\u001b[0m\u001b[1;33m=\u001b[0m\u001b[0morder\u001b[0m\u001b[1;33m)\u001b[0m\u001b[1;33m\u001b[0m\u001b[1;33m\u001b[0m\u001b[0m\n\u001b[0m\u001b[0;32m     86\u001b[0m \u001b[1;33m\u001b[0m\u001b[0m\n\u001b[0;32m     87\u001b[0m \u001b[1;33m\u001b[0m\u001b[0m\n",
      "\u001b[1;31mValueError\u001b[0m: could not convert string to float: '60-69'"
     ]
    }
   ],
   "source": [
    "genes_clock = {}\n",
    "score = {}\n",
    "pearson_corr = {}\n",
    "prediction = {}\n",
    "true = {}\n",
    "for i, tissue in enumerate(tissues[:2]):\n",
    "    print(tissue)\n",
    "    genes_clock[tissue], score[tissue], pearson_corr[tissue], true[tissue], prediction[tissue] = \\\n",
    "    fit_lasso_model(residual_no_outliers[tissue], ages[tissue], tol=0.1)"
   ]
  },
  {
   "cell_type": "markdown",
   "metadata": {},
   "source": [
    "# Additional analysis"
   ]
  },
  {
   "cell_type": "markdown",
   "metadata": {},
   "source": [
    "### Comparing prediction accuracy for different tissues"
   ]
  },
  {
   "cell_type": "code",
   "execution_count": null,
   "metadata": {},
   "outputs": [],
   "source": [
    "fig, ax = plt.subplots(figsize=(11,8))\n",
    "n=2\n",
    "x_coords = np.arange(0,n*len(tissues), n)\n",
    "ax.set_xticks(np.arange(0,n*len(tissues), n))\n",
    "coeff = np.asarray([pearson_corr[tissue][0] for tissue in tissues])\n",
    "ax.set_xticklabels([tissues[i] for i in np.argsort(coeff)[::-1]], rotation=45, fontsize=xlabel_fontsize)\n",
    "ax.bar(x_coords, coeff[np.argsort(coeff)[::-1]], \\\n",
    "    color='C0', edgecolor='white')\n",
    "ax.set_ylabel('Pearson correlation coefficient', fontsize=ylabel_fontsize) \n",
    "plt.tight_layout()\n",
    "pp = \"/Users/elvirakinzina/src/Aging_clock/Pictures/Number_of_genes_and_correlation.\" + figure_format\n",
    "# plt.savefig(pp, format = figure_format)"
   ]
  },
  {
   "cell_type": "markdown",
   "metadata": {},
   "source": [
    "## Define most important covariates\n",
    "These could be included in the model or regressed out to improve age prediction"
   ]
  },
  {
   "cell_type": "code",
   "execution_count": null,
   "metadata": {},
   "outputs": [],
   "source": [
    "def gaussian_project(data, standardize=True, noise=1e-6):\n",
    "    \"\"\" Project each row onto gaussian with matched mean, stdev \n",
    "\n",
    "    standardize : bool\n",
    "        project each row onto N(0, 1), otherwise use N(mu_row, sigma_row),\n",
    "        where mu_row is the mean of the row and sigma_row is the standard\n",
    "        deviation\n",
    "    noise : float\n",
    "        add random noise drawn from interval (0, noise) to break ties\n",
    "    \"\"\"\n",
    "    # add random noise to break ties\n",
    "    err = np.random.random(data.shape) * noise\n",
    "    data = data + err\n",
    "\n",
    "    ppt = data.rank(axis=1) / (float(data.shape[1])+1.)\n",
    "    if standardize:\n",
    "        df = pd.DataFrame(ss.norm.ppf(ppt), index=ppt.index, \n",
    "                          columns=ppt.columns)\n",
    "    else:\n",
    "        mu = data.mean(axis=1)\n",
    "        sigma = data.std(axis=1)\n",
    "        df = {}\n",
    "        for r in ppt.index:\n",
    "            df[r] = pd.Series(ss.norm.ppf(ppt.loc[r], loc=mu.loc[r],\n",
    "                                          scale=sigma.loc[r]), index=ppt.columns)\n",
    "        df = pd.DataFrame(df).T\n",
    "    return df\n",
    "def find_covars_corr_with_first_2_pcs(tissue, data, ax):\n",
    "        dt = data.copy()\n",
    "        dt_g = gaussian_project(dt)\n",
    "\n",
    "        pca = PCA().fit(dt_g)\n",
    "\n",
    "        # extract principal components\n",
    "        comps = pd.DataFrame(pca.components_.T, index=dt_g.columns,\n",
    "                             columns=['PC%i' % (i+1) for i in range(len(pca.components_))])\n",
    "        \n",
    "        # choose potential important covariates (add whatever you are interesred in)\n",
    "        covars = ['SMRIN', 'SMTSISCH', 'TRISCHD', 'ETHNCTY', 'RACE', 'AGE', 'BMI', 'SMNTRNRT', 'DTHRFG', 'DTHVNT', \\\n",
    "                  'SMATSSCR', 'SMALTALG', 'DTHHRDY', 'DTHHRDY']\n",
    "        print('components', pca.explained_variance_ratio_[0:10])\n",
    "    \n",
    "        if np.fabs(sum(pca.explained_variance_ratio_)-1)>0.1:\n",
    "            print('sum', sum(pca.explained_variance_ratio_))\n",
    "        \n",
    "        covs_r = {}\n",
    "        covs_p = {}\n",
    "        for pc in ['PC{}'.format(i+1) for i in range(10)]:\n",
    "            _r = {}\n",
    "            _p = {}\n",
    "            for cv in covars:\n",
    "                if cv in sampleMetaData.columns:\n",
    "                    covar_vals = np.asarray(sampleMetaData.loc[comps.index, cv])\n",
    "                elif cv in subjectMetaData.columns:\n",
    "                    sample_subject_ids = [index.split(\"-\")[0] + \"-\" + index.split(\"-\")[1] \\\n",
    "                                 for index in list(comps.index)]\n",
    "                    covar_vals = np.asarray(subjectMetaData.loc[sample_subject_ids, cv])\n",
    "                _r[cv], _p[cv] = ss.pearsonr(covar_vals[np.isfinite(covar_vals)], \\\n",
    "                                             comps.loc[np.isfinite(covar_vals), pc])\n",
    "                covs_r[pc] = pd.Series(_r)\n",
    "                covs_p[pc] = pd.Series(_p)\n",
    "        covs_r = pd.DataFrame(covs_r).loc[:, ['PC{}'.format(i+1) for i in range(10)]]\n",
    "        covs_p = pd.DataFrame(covs_p).loc[:, ['PC{}'.format(i+1) for i in range(10)]]\n",
    "\n",
    "        covarsMain = [covar for covar in covars if (covs_p.loc[covar,:][0:10]<0.05).any()==True]\n",
    "        first_2_pcs_pars = [covar for covar in covars if (covs_p.loc[covar,:][0:2]<0.05).any()==True]\n",
    "        ax.set_title(tissue)\n",
    "        sns.heatmap(-1*np.log10(covs_p.loc[covarsMain,:]), ax=ax, vmax=10, annot=True, fmt=\".1f\")\n",
    "        return(first_2_pcs_pars)"
   ]
  },
  {
   "cell_type": "code",
   "execution_count": null,
   "metadata": {},
   "outputs": [],
   "source": [
    "fig, ax = plt.subplots(1, 1, figsize=(7, 5))\n",
    "first_2_pcs_pars = find_covars_corr_with_first_2_pcs('Muscle', data['Muscle'], ax)"
   ]
  },
  {
   "cell_type": "code",
   "execution_count": null,
   "metadata": {},
   "outputs": [],
   "source": [
    "fig, ax = plt.subplots(1, 1, figsize=(7, 5))\n",
    "first_2_pcs_pars = find_covars_corr_with_first_2_pcs('Esophagus', data['Esophagus'], ax)"
   ]
  },
  {
   "cell_type": "markdown",
   "metadata": {},
   "source": [
    "## Color PCA by parameter (age, RNA quality, ischemic time before) values to explore important parameters for each tissue"
   ]
  },
  {
   "cell_type": "markdown",
   "metadata": {},
   "source": [
    "You can look at other technical or phenotypic covariates to find those that can possibly explain PCA patterns for tissues that clearly have clusters: skin and esophagus"
   ]
  },
  {
   "cell_type": "code",
   "execution_count": null,
   "metadata": {},
   "outputs": [],
   "source": [
    "def plot_pca_colored_by(data, parameter):\n",
    "    fig, ax = plt.subplots(1, 1, figsize=(7, 5))\n",
    "    pca = decomposition.PCA(n_components=2)\n",
    "    X = data.transpose().copy()\n",
    "    pca.fit(X)\n",
    "    y = np.asarray(parameter)\n",
    "    X = pca.transform(X)\n",
    "    y_no_na = y[np.where(np.isfinite(y))]\n",
    "    y_min = np.min(y_no_na)\n",
    "    y_max = np.max(y_no_na)\n",
    "    \n",
    "    for i in range(len(X[:, 0])):\n",
    "        if np.isfinite(y[i]):\n",
    "            alpha = float((y[i]-y_min)/float(y_max-y_min))\n",
    "            ax.scatter(X[i, 0], X[i, 1], color = 'green', alpha = alpha, s=15)"
   ]
  },
  {
   "cell_type": "code",
   "execution_count": null,
   "metadata": {},
   "outputs": [],
   "source": [
    "plot_pca_colored_by(residual_no_outliers[\"Esophagus\"], SMTSISCH[\"Esophagus\"])"
   ]
  },
  {
   "cell_type": "markdown",
   "metadata": {},
   "source": [
    "## Sample size of each tissue\n",
    "I chose top 8 tissues for the analysis above"
   ]
  },
  {
   "cell_type": "code",
   "execution_count": null,
   "metadata": {},
   "outputs": [],
   "source": [
    "# tissues = list(set(sampleMetaData['SMTS']))\n",
    "# sample_num = dict()\n",
    "# for tissue in tissues:\n",
    "#         data[tissue], age[tissue], SMRIN[tissue], SMTSISCH[tissue] = load_data(tissue)\n",
    "#         sample_num[tissue] = data[tissue].shape[1]\n",
    "# out_file = \"/om2/user/elvira/src/data/GTEx_v8/rna_seq/Tissues_sample_numbers.pkl\"\n",
    "# with open(out_file, \"wb\") as f:\n",
    "#     pickle.dump(sample_num,f,pickle.HIGHEST_PROTOCOL)"
   ]
  },
  {
   "cell_type": "code",
   "execution_count": null,
   "metadata": {},
   "outputs": [],
   "source": [
    "sample_num = pd.read_pickle(\"/om2/user/elvira/src/data/GTEx_v8/rna_seq/Tissues_sample_numbers.pkl\")\n",
    "tissues = list(sample_num.keys())\n",
    "sample_numbers = np.asarray([sample_num[tissue] for tissue in tissues])\n",
    "indices = np.argsort(sample_numbers)[::-1]\n",
    "fig, ax = plt.subplots(1, 1, figsize=(7, 5))\n",
    "ax.bar(range(len(tissues)), sample_numbers[indices])\n",
    "ax.set_xticks(range(len(tissues)))\n",
    "ax.set_xticklabels([tissues[index] for index in indices], rotation = 90)"
   ]
  },
  {
   "cell_type": "markdown",
   "metadata": {},
   "source": [
    "## Plot sample age distribution for each tissue\n",
    "Most samples are from elderly since they die more often"
   ]
  },
  {
   "cell_type": "code",
   "execution_count": null,
   "metadata": {},
   "outputs": [],
   "source": [
    "for tissue in tissues:\n",
    "    fig, ax = plt.subplots(1, 1, figsize=(4, 3))\n",
    "    ax.hist(age[tissue])\n",
    "    ax.set_title(tissue, fontsize=title_fontsize)"
   ]
  }
 ],
 "metadata": {
  "kernelspec": {
   "display_name": "Python 3",
   "language": "python",
   "name": "python3"
  },
  "language_info": {
   "codemirror_mode": {
    "name": "ipython",
    "version": 3
   },
   "file_extension": ".py",
   "mimetype": "text/x-python",
   "name": "python",
   "nbconvert_exporter": "python",
   "pygments_lexer": "ipython3",
   "version": "3.7.4"
  }
 },
 "nbformat": 4,
 "nbformat_minor": 1
}
