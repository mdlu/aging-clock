{
 "cells": [
  {
   "cell_type": "code",
   "execution_count": 117,
   "metadata": {},
   "outputs": [
    {
     "name": "stdout",
     "output_type": "stream",
     "text": [
      "Requirement already satisfied: pyreadr in c:\\tools\\anaconda3\\envs\\py38\\lib\\site-packages (0.3.6)\n",
      "Requirement already satisfied: seaborn in c:\\tools\\anaconda3\\envs\\py38\\lib\\site-packages (0.11.0)\n",
      "Requirement already satisfied: sklearn in c:\\tools\\anaconda3\\envs\\py38\\lib\\site-packages (0.0)\n",
      "Requirement already satisfied: pandas>0.24.0 in c:\\tools\\anaconda3\\envs\\py38\\lib\\site-packages (from pyreadr) (1.1.4)\n",
      "Requirement already satisfied: scipy>=1.0 in c:\\tools\\anaconda3\\envs\\py38\\lib\\site-packages (from seaborn) (1.5.3)\n",
      "Requirement already satisfied: matplotlib>=2.2 in c:\\tools\\anaconda3\\envs\\py38\\lib\\site-packages (from seaborn) (3.3.2)\n",
      "Requirement already satisfied: numpy>=1.15 in c:\\tools\\anaconda3\\envs\\py38\\lib\\site-packages (from seaborn) (1.19.3)\n",
      "Requirement already satisfied: scikit-learn in c:\\tools\\anaconda3\\envs\\py38\\lib\\site-packages (from sklearn) (0.23.2)\n",
      "Requirement already satisfied: python-dateutil>=2.7.3 in c:\\tools\\anaconda3\\envs\\py38\\lib\\site-packages (from pandas>0.24.0->pyreadr) (2.8.1)\n",
      "Requirement already satisfied: pytz>=2017.2 in c:\\tools\\anaconda3\\envs\\py38\\lib\\site-packages (from pandas>0.24.0->pyreadr) (2020.4)\n",
      "Requirement already satisfied: kiwisolver>=1.0.1 in c:\\tools\\anaconda3\\envs\\py38\\lib\\site-packages (from matplotlib>=2.2->seaborn) (1.3.1)\n",
      "Requirement already satisfied: pyparsing!=2.0.4,!=2.1.2,!=2.1.6,>=2.0.3 in c:\\tools\\anaconda3\\envs\\py38\\lib\\site-packages (from matplotlib>=2.2->seaborn) (2.4.7)\n",
      "Requirement already satisfied: pillow>=6.2.0 in c:\\tools\\anaconda3\\envs\\py38\\lib\\site-packages (from matplotlib>=2.2->seaborn) (8.0.1)\n",
      "Requirement already satisfied: certifi>=2020.06.20 in c:\\tools\\anaconda3\\envs\\py38\\lib\\site-packages (from matplotlib>=2.2->seaborn) (2020.6.20)\n",
      "Requirement already satisfied: cycler>=0.10 in c:\\tools\\anaconda3\\envs\\py38\\lib\\site-packages (from matplotlib>=2.2->seaborn) (0.10.0)\n",
      "Requirement already satisfied: threadpoolctl>=2.0.0 in c:\\tools\\anaconda3\\envs\\py38\\lib\\site-packages (from scikit-learn->sklearn) (2.1.0)\n",
      "Requirement already satisfied: joblib>=0.11 in c:\\tools\\anaconda3\\envs\\py38\\lib\\site-packages (from scikit-learn->sklearn) (0.17.0)\n",
      "Requirement already satisfied: six>=1.5 in c:\\tools\\anaconda3\\envs\\py38\\lib\\site-packages (from python-dateutil>=2.7.3->pandas>0.24.0->pyreadr) (1.15.0)\n"
     ]
    }
   ],
   "source": [
    "import sys\n",
    "!{sys.executable} -m pip install pyreadr seaborn sklearn"
   ]
  },
  {
   "cell_type": "code",
   "execution_count": 161,
   "metadata": {},
   "outputs": [],
   "source": [
    "import pickle\n",
    "import pyreadr\n",
    "import pandas as pd\n",
    "from pandas import DataFrame as df\n",
    "import numpy as np\n",
    "import scipy.stats as ss\n",
    "import seaborn as sns\n",
    "sns.set()\n",
    "from sklearn import decomposition\n",
    "from sklearn.decomposition import PCA\n",
    "from sklearn.linear_model import LassoCV\n",
    "from sklearn.datasets import make_regression\n",
    "import matplotlib.pyplot as plt\n",
    "import matplotlib.patches as mpatches\n",
    "title_fontsize = 20\n",
    "xlabel_fontsize = 18\n",
    "ylabel_fontsize = 18\n",
    "legend_fontsize = 14\n",
    "ticks_fontsize = 18\n",
    "figure_format = \"pdf\"\n",
    "%matplotlib inline\n",
    "runmode = \"test\" # \"prod\", or other such as \"test\", or \"beta\", or something else\n",
    "# changes the behavior of the code"
   ]
  },
  {
   "cell_type": "code",
   "execution_count": 119,
   "metadata": {},
   "outputs": [],
   "source": [
    "# # below blocks are a poor attempt to recreate the necessary .pkl files for the load_data function later\n",
    "# import gzip\n",
    "# tpm_path= \"./GTEx_V8_RawData/GTEx_Analysis_2017-06-05_v8_RNASeQCv1.1.9_gene_tpm.gct.gz\"\n",
    "# f = gzip.open(tpm_path, 'rt')\n",
    "# file_content = f.read()"
   ]
  },
  {
   "cell_type": "code",
   "execution_count": 120,
   "metadata": {},
   "outputs": [],
   "source": [
    "# # f1 = open(\"GTEx_Analysis_2017-06-05_v8_RNASeQCv1.1.9_gene_tpm.gct\", \"w\")\n",
    "# # f1.write(file_content)\n",
    "# # f1.close()\n",
    "\n",
    "# # from cmapPy.pandasGEXpress.parse_gct import parse\n",
    "# # tpm_data = parse(file_content)\n",
    "\n",
    "# # from io import StringIO\n",
    "\n",
    "# # s = str(file_content,'utf-8')\n",
    "# # data = StringIO(s) \n",
    "\n",
    "# # much too slow\n",
    "# tpm_data = pd.read_csv(data, delimiter='\\t', skiprows=2)\n",
    "# print(list(tpm_data.columns))"
   ]
  },
  {
   "cell_type": "markdown",
   "metadata": {},
   "source": [
    "## Load metadata for samples and subjects in GTEx"
   ]
  },
  {
   "cell_type": "code",
   "execution_count": 121,
   "metadata": {},
   "outputs": [
    {
     "name": "stderr",
     "output_type": "stream",
     "text": [
      "c:\\tools\\anaconda3\\envs\\py38\\lib\\site-packages\\IPython\\core\\interactiveshell.py:3146: DtypeWarning: Columns (5) have mixed types.Specify dtype option on import or set low_memory=False.\n",
      "  has_raised = await self.run_ast_nodes(code_ast.body, cell_name,\n"
     ]
    },
    {
     "name": "stdout",
     "output_type": "stream",
     "text": [
      "           SMATSSCR         SMRIN      SMTSISCH       SMTSPAX  SMTORMVE  \\\n",
      "count  13828.000000  17382.000000  18153.000000  13805.000000       0.0   \n",
      "mean       0.894996      7.275108    573.664518    845.796378       NaN   \n",
      "std        0.601313      1.049560    400.418068    295.174741       NaN   \n",
      "min        0.000000      3.200000  -1287.000000    240.000000       NaN   \n",
      "25%        1.000000      6.500000    226.000000    590.000000       NaN   \n",
      "50%        1.000000      7.200000    531.000000    836.000000       NaN   \n",
      "75%        1.000000      7.900000    872.000000   1076.000000       NaN   \n",
      "max        3.000000     10.000000   2076.000000   1673.000000       NaN   \n",
      "\n",
      "       SMFLGRMRK  SMGTC      SME2MPRT      SMCHMPRS      SMNTRART  ...  \\\n",
      "count        0.0    0.0  17382.000000  1.738200e+04  17382.000000  ...   \n",
      "mean         NaN    NaN      0.977538  3.965408e+05      0.968464  ...   \n",
      "std          NaN    NaN      0.058277  3.263028e+05      0.013258  ...   \n",
      "min          NaN    NaN      0.207391  2.096600e+04      0.766120  ...   \n",
      "25%          NaN    NaN      0.985924  2.167070e+05      0.964675  ...   \n",
      "50%          NaN    NaN      0.989547  3.063935e+05      0.971646  ...   \n",
      "75%          NaN    NaN      0.991657  4.753225e+05      0.976061  ...   \n",
      "max          NaN    NaN      0.996329  1.055430e+07      0.993077  ...   \n",
      "\n",
      "           SME1ANTI      SMSPLTRD      SMBSMMRT      SME1SNSE      SME1PCTS  \\\n",
      "count  1.738200e+04  1.738200e+04  17382.000000  1.738200e+04  17382.000000   \n",
      "mean   1.878577e+07  1.410481e+07      0.003481  1.877972e+07     49.997166   \n",
      "std    5.314489e+06  5.723652e+06      0.001331  5.295588e+06      0.290263   \n",
      "min    2.357828e+06  7.147860e+05      0.001570  2.299530e+06     44.044773   \n",
      "25%    1.527866e+07  1.044811e+07      0.002619  1.531284e+07     49.866580   \n",
      "50%    1.789736e+07  1.311165e+07      0.003102  1.791043e+07     49.998811   \n",
      "75%    2.138629e+07  1.660397e+07      0.003883  2.135568e+07     50.128347   \n",
      "max    1.454161e+08  9.922862e+07      0.011130  1.483201e+08     52.196750   \n",
      "\n",
      "           SMRRNART      SME1MPRT  SMNUM5CD  SMDPMPRT      SME2PCTS  \n",
      "count  17382.000000  17382.000000       0.0   17382.0  17382.000000  \n",
      "mean       0.016443      0.982936       NaN       0.0     50.229602  \n",
      "std        0.024308      0.057587       NaN       0.0      0.244152  \n",
      "min        0.000360      0.209434       NaN       0.0     48.320545  \n",
      "25%        0.004019      0.991976       NaN       0.0     50.111450  \n",
      "50%        0.006762      0.994297       NaN       0.0     50.198495  \n",
      "75%        0.015124      0.995500       NaN       0.0     50.305623  \n",
      "max        0.257533      0.998070       NaN       0.0     53.760780  \n",
      "\n",
      "[8 rows x 52 columns]\n",
      "              SEX         AGE        RACE     ETHNCTY        HGHT        WGHT  \\\n",
      "count  948.000000  948.000000  948.000000  948.000000  948.000000  948.000000   \n",
      "mean     1.329114   52.776371    3.863924   50.738397   68.229335  181.866024   \n",
      "std      0.470139   12.942020    9.836007   49.456253    3.835523   35.711814   \n",
      "min      1.000000   20.000000    1.000000    0.000000   56.000000   86.000000   \n",
      "25%      1.000000   47.000000    3.000000    0.000000   65.700000  155.075000   \n",
      "50%      1.000000   55.000000    3.000000   98.000000   69.000000  180.200000   \n",
      "75%      2.000000   63.000000    3.000000   99.000000   71.000000  206.088175   \n",
      "max      2.000000   70.000000   99.000000   99.000000   78.000000  293.000000   \n",
      "\n",
      "              BMI      TRISCHD    TRCHSTIND     TRCCLMPD  ...   MHTTOO12M  \\\n",
      "count  948.000000   948.000000   933.000000   419.000000  ...  948.000000   \n",
      "mean    27.321709   505.992616   451.488746    21.143198  ...    1.363924   \n",
      "std      4.108556   416.824455   499.802939   171.247809  ...   11.519024   \n",
      "min     17.030000     0.000000  -496.000000   -17.000000  ...    0.000000   \n",
      "25%     24.297500    80.000000   -61.000000     0.000000  ...    0.000000   \n",
      "50%     27.285000   458.500000   500.000000     0.000000  ...    0.000000   \n",
      "75%     30.510000   838.250000   869.000000     0.000000  ...    0.000000   \n",
      "max     35.870000  1641.000000  1470.000000  1440.000000  ...   99.000000   \n",
      "\n",
      "         MHTTOONP    MHTXCEXP    MHUK8096    MHUREMIA    MHWKNSSU     MHWNVCT  \\\n",
      "count  948.000000  948.000000  948.000000  948.000000  948.000000  948.000000   \n",
      "mean     1.787975    1.813291    0.949367    0.629747    0.862869    0.731013   \n",
      "std     13.143605   13.141097    9.604841    7.855146    9.059709    8.480078   \n",
      "min      0.000000    0.000000    0.000000    0.000000    0.000000    0.000000   \n",
      "25%      0.000000    0.000000    0.000000    0.000000    0.000000    0.000000   \n",
      "50%      0.000000    0.000000    0.000000    0.000000    0.000000    0.000000   \n",
      "75%      0.000000    0.000000    0.000000    0.000000    0.000000    0.000000   \n",
      "max     99.000000   99.000000   99.000000   99.000000   99.000000   99.000000   \n",
      "\n",
      "          MHWNVHX    MHWTLSUA    MHWTLSUB  \n",
      "count  948.000000  948.000000  948.000000  \n",
      "mean     0.731013    0.863924    0.734177  \n",
      "std      8.480078    9.059666    8.479992  \n",
      "min      0.000000    0.000000    0.000000  \n",
      "25%      0.000000    0.000000    0.000000  \n",
      "50%      0.000000    0.000000    0.000000  \n",
      "75%      0.000000    0.000000    0.000000  \n",
      "max     99.000000   99.000000   99.000000  \n",
      "\n",
      "[8 rows x 142 columns]\n"
     ]
    }
   ],
   "source": [
    "# load sample metadata: 18220 samples, 73 technnical parameters\n",
    "sampleMetaData = pd.read_csv('./GTEx_V8_RawData/GTEx_Analysis_2017-06-05_v8_Annotations_SampleAttributesDS.txt', sep = '\\t', header = 'infer', index_col=0)\n",
    "# load sample metadata: 948 people, 174 phenotipic parameters\n",
    "subjectMetaData = pd.read_csv('./GTEx_V8_RawData/GTEx_Analysis_2017-06-05_v8_Annotations_SubjectPhenotypesDS.txt', sep = '\\t', header = 'infer', index_col=0)\n",
    "\n",
    "print(sampleMetaData.describe())\n",
    "print(subjectMetaData.describe())"
   ]
  },
  {
   "cell_type": "markdown",
   "metadata": {},
   "source": [
    "## Load data by tissue"
   ]
  },
  {
   "cell_type": "code",
   "execution_count": 122,
   "metadata": {},
   "outputs": [],
   "source": [
    "def load_data(tissue):\n",
    "    \"\"\" Load gene expression for each tissue.\n",
    "    \n",
    "     Parameters\n",
    "    ----------\n",
    "    tissue: one of GTEx tissues\n",
    "    \n",
    "     Outputs\n",
    "    ----------\n",
    "    data : pd.DataFrame\n",
    "        genes x samples dataframe\n",
    "    age : np.array, int\n",
    "        age of each subject who provided the sample for the tissue\n",
    "    SMRIN : np.array, float\n",
    "        RIN number (RNA integrity number) for each sample\n",
    "    SMTSISCH : np.array, int\n",
    "        total ischemic time for each sample\n",
    "    \"\"\"\n",
    "    \n",
    "    print(tissue)\n",
    "    data_p_file = \"./GTEx_V8_RNASeq_subTissueTypes/Expr_by_tissue/Expr_by_tissue/GTEx_Analysis_2017-06-05_v8_RNASeQCv1.1.9_gene_tpm_\"+\\\n",
    "    str(tissue)+\".pkl\"\n",
    "    data = pd.read_pickle(data_p_file)\n",
    "# TODO AAYUSH\n",
    "#     # replace with RData ??\n",
    "#     data_p_file = \"./GTEx_V8_RNASeq_subTissueTypes/GTEx_\" + str(tissue) + \".RData\"\n",
    "#     data = pyreadr.read_r(data_p_file)\n",
    "#     print(data.keys())\n",
    "#     for key in data.keys():\n",
    "#         print(data[key])\n",
    "    \n",
    "    gene_ids = data['Name']\n",
    "    gene_names = data['Description']\n",
    "    data.index = gene_ids\n",
    "    data = data.iloc[:,2:]\n",
    "    print(data.shape[1], \" samples, \", data.shape[0], \"genes\")\n",
    "    \n",
    "    # filter out genes that are expressed in fewer than 10% of samples\n",
    "    data = data[(data.T == 0).sum()<0.1*data.shape[1]]\n",
    "    print(str(len((data.T == 0).sum()>0.1*data.shape[1])) + \" genes filtered out\")\n",
    "    \n",
    "    # filter out samples that express fewer than 10% of genes\n",
    "    data = data.loc[:,data.columns[(pd.isna(data)).sum()<0.1*data.shape[0]]]\n",
    "    print(str(len(data.columns[(pd.isna(data)).sum()>0.1*data.shape[0]])) + \" samples filtered out\")\n",
    "    \n",
    "    # load age, SNRIN, and SMTSUSCH values for each subject\n",
    "    subject_ids = [subject_id.split(\"-\")[0]+\"-\"+subject_id.split(\"-\")[1] for subject_id in \\\n",
    "     data.columns.tolist()]\n",
    "    age = [np.asarray(subjectMetaData.loc[subjectMetaData.index==subject_id,'AGE'])[0] \\\n",
    "                   for subject_id in subject_ids]\n",
    "    SMRIN = [np.asarray(sampleMetaData.loc[sampleMetaData.index==sample_id,'SMRIN'])[0] \\\n",
    "                   for sample_id in data.columns.tolist()]\n",
    "    SMTSISCH = [np.asarray(sampleMetaData.loc[sampleMetaData.index==sample_id,'SMTSISCH'])[0] \\\n",
    "                   for sample_id in data.columns.tolist()]\n",
    "    return data, age, SMRIN, SMTSISCH"
   ]
  },
  {
   "cell_type": "markdown",
   "metadata": {},
   "source": [
    "## Load and filter data"
   ]
  },
  {
   "cell_type": "markdown",
   "metadata": {},
   "source": [
    "Choosing tissues that have > 800 samples (8 tissues in GTEx). It is arbitrary, so you can choose a lower threshold to study more tissues if your age prediciton model works even for fewer samples"
   ]
  },
  {
   "cell_type": "code",
   "execution_count": 162,
   "metadata": {},
   "outputs": [],
   "source": [
    "if(runmode == \"prod\"):\n",
    "    tissues = ['Muscle',\n",
    "    'Blood Vessel',\n",
    "    'Brain',\n",
    "    'Blood',\n",
    "    'Skin',\n",
    "    'Esophagus',\n",
    "    'Heart',\n",
    "    'Adipose Tissue']\n",
    "else:\n",
    "    tissues = ['Muscle', 'Blood Vessel']\n",
    "    # tissues = ['Muscle_Skeletal'] # Left over from sub tissue types "
   ]
  },
  {
   "cell_type": "code",
   "execution_count": 124,
   "metadata": {
    "scrolled": false
   },
   "outputs": [
    {
     "name": "stdout",
     "output_type": "stream",
     "text": [
      "Muscle\n",
      "804  samples,  56200 genes\n",
      "19544 genes filtered out\n",
      "0 samples filtered out\n",
      "Blood Vessel\n",
      "1335  samples,  56200 genes\n",
      "21218 genes filtered out\n",
      "0 samples filtered out\n"
     ]
    }
   ],
   "source": [
    "data = {}\n",
    "age = {}\n",
    "SMRIN = {}\n",
    "SMTSISCH = {}\n",
    "\n",
    "for tissue in tissues:\n",
    "    data[tissue], age[tissue], SMRIN[tissue], SMTSISCH[tissue] = load_data(tissue)"
   ]
  },
  {
   "cell_type": "markdown",
   "metadata": {},
   "source": [
    "## Correct for covariates and remove outliers"
   ]
  },
  {
   "cell_type": "markdown",
   "metadata": {},
   "source": [
    "### Find genes with weak correlation with age"
   ]
  },
  {
   "cell_type": "code",
   "execution_count": 125,
   "metadata": {},
   "outputs": [],
   "source": [
    "def define_non_age_related_genes(data, age):\n",
    "    rhos = np.zeros((len(data.index.tolist())))\n",
    "    spear_pvals = np.zeros((len(data.index.tolist())))\n",
    "    for i, gene in enumerate(data.index.tolist()):\n",
    "        rhos[i], spear_pvals[i] = ss.spearmanr(data.loc[gene,:], age, nan_policy = 'omit')\n",
    "    gene_idxs = range(data.shape[0])\n",
    "    gene_idxs = [gene_idx for gene_idx in gene_idxs if spear_pvals[gene_idx]>0.01]\n",
    "    print(str(len(gene_idxs)) + \" genes with no correlation with age\")\n",
    "    non_aging_expr = data.iloc[gene_idxs,:]\n",
    "    return(non_aging_expr)"
   ]
  },
  {
   "cell_type": "markdown",
   "metadata": {},
   "source": [
    "### Perform SVD (singular value decomposition) of non-age related gene expression"
   ]
  },
  {
   "cell_type": "code",
   "execution_count": 126,
   "metadata": {},
   "outputs": [],
   "source": [
    "def svd(non_aging_expr, n_comp = 50):\n",
    "    u, s, vh  = np.linalg.svd(non_aging_expr.transpose())\n",
    "    d2 = s**2\n",
    "    print(\"first \" + str(n_comp) + \" components explain \" + str(d2[:n_comp].sum()/d2.sum()) + \" variability\")\n",
    "    print(u.shape)\n",
    "    u_top_10 = u[:n_comp,:]\n",
    "    x_0 = u_top_10*s\n",
    "    return(x_0)"
   ]
  },
  {
   "cell_type": "markdown",
   "metadata": {},
   "source": [
    "### Regress out non-age-related covariates"
   ]
  },
  {
   "cell_type": "code",
   "execution_count": 127,
   "metadata": {},
   "outputs": [],
   "source": [
    "import sklearn.linear_model as linear_model\n",
    "def linear_regression(x_train, y_train):\n",
    "    ols = linear_model.LinearRegression()\n",
    "    model = ols.fit(x_train, y_train)\n",
    "    return ols.coef_, ols.intercept_, ols.predict(x_train)\n",
    "\n",
    "def regress_covariates(data, x_0):\n",
    "    coeffs, intercepts, prediction = linear_regression(x_0.transpose(), data.transpose()) \n",
    "    residual = (data.transpose()-np.asmatrix(x_0.transpose())*coeffs.transpose()).transpose()\n",
    "    return residual"
   ]
  },
  {
   "cell_type": "markdown",
   "metadata": {},
   "source": [
    "### Exclude non-age-related genes"
   ]
  },
  {
   "cell_type": "code",
   "execution_count": 128,
   "metadata": {},
   "outputs": [],
   "source": [
    "def exclude_non_age_related_genes(residual, gene_idxs):\n",
    "    aging_gene_idxs = [i for i in range(len(residual.index)) if i not in gene_idxs]\n",
    "    residual_aging = residual.iloc[aging_gene_idxs,:]\n",
    "    return(residual_aging)"
   ]
  },
  {
   "cell_type": "markdown",
   "metadata": {},
   "source": [
    "### Remove outliers"
   ]
  },
  {
   "cell_type": "code",
   "execution_count": 129,
   "metadata": {},
   "outputs": [],
   "source": [
    "def plot_PCA(X, ax, tissue):\n",
    "    for i in range(len(X[:, 0])):\n",
    "        ax.scatter(X[i, 0], X[i, 1], color = 'C0')\n",
    "    ax.set_title(tissue, fontsize = title_fontsize)\n",
    "    ax.set_xlabel('PC1', fontsize = xlabel_fontsize)\n",
    "    ax.set_xlabel('PC2', fontsize = ylabel_fontsize)"
   ]
  },
  {
   "cell_type": "code",
   "execution_count": 130,
   "metadata": {},
   "outputs": [],
   "source": [
    "from sklearn import decomposition\n",
    "def detect_outliers(residual_aging, tissue):\n",
    "    pca = decomposition.PCA(n_components=2)\n",
    "    X = residual_aging.transpose().copy()\n",
    "    pca.fit(X)\n",
    "    X = pca.transform(X)\n",
    "    fig, ax = plt.subplots(1, 1, figsize=(7, 5))\n",
    "    plot_PCA(X, ax, tissue)\n",
    "    q1 = pd.DataFrame(X[:, 0]).quantile(0.999)\n",
    "    q2 = pd.DataFrame(X[:, 1]).quantile(0.999)\n",
    "    print(q1[0])\n",
    "    print(q2[0])\n",
    "    residual_no_outliers = residual_aging.iloc[:,np.asarray([j for j in \\\n",
    "                                                             range(len(residual_aging.columns)) \\\n",
    "                                                             if X[j, 0] < q1[0] and X[j, 1] < q2[0]])]\n",
    "    print(str(residual_aging.shape[0] - residual_no_outliers.shape[0]) + \" outliers removed\")\n",
    "    \n",
    "    subj_ids = [subject_id.split(\"-\")[0]+\"-\"+subject_id.split(\"-\")[1] for subject_id in \\\n",
    "                residual_no_outliers.columns.tolist()]\n",
    "    ages = [np.asarray(subjectMetaData.loc[subjectMetaData.index==subject_id,'AGE'])[0] \\\n",
    "                   for subject_id in subj_ids]\n",
    "    SMRINs = [np.asarray(sampleMetaData.loc[sampleMetaData.index==sample_id,'SMRIN'])[0] \\\n",
    "                   for sample_id in residual_no_outliers.columns.tolist()]\n",
    "    SMTSISCHs = [np.asarray(sampleMetaData.loc[sampleMetaData.index==sample_id,'SMTSISCH'])[0] \\\n",
    "                   for sample_id in residual_no_outliers.columns.tolist()]\n",
    "    return residual_no_outliers, ages, SMRINs, SMTSISCHs"
   ]
  },
  {
   "cell_type": "code",
   "execution_count": 131,
   "metadata": {},
   "outputs": [],
   "source": [
    "non_aging_expr = {}\n",
    "x_0 = {}\n",
    "residual = {}\n",
    "residual_aging = {}\n",
    "residual_no_outliers = {}\n",
    "ages = {}\n",
    "SMRINs = {}\n",
    "SMTSISCHs = {}\n",
    "should_filter = False\n",
    "\n",
    "if(should_filter):\n",
    "        for i, tissue in enumerate(tissues):\n",
    "                print(tissue)\n",
    "                \n",
    "                non_aging_expr[tissue] = define_non_age_related_genes(data[tissue], age[tissue])\n",
    "                x_0[tissue] = svd(non_aging_expr[tissue], n_comp=50)\n",
    "                residual[tissue] = regress_covariates(data[tissue], x_0[tissue])\n",
    "                residual_aging[tissue] = exclude_non_age_related_genes(residual[tissue], \\\n",
    "                                                                non_aging_expr[tissue].index.tolist())\n",
    "                residual_no_outliers[tissue], ages[tissue], SMRINs[tissue], SMTSISCHs[tissue] = \\\n",
    "                detect_outliers(residual_aging[tissue], tissue)"
   ]
  },
  {
   "cell_type": "markdown",
   "metadata": {},
   "source": [
    "## Build the model predicting age with Lasso"
   ]
  },
  {
   "cell_type": "code",
   "execution_count": 132,
   "metadata": {},
   "outputs": [],
   "source": [
    "def split_train_valid_test(num_examples,training_proportion,validation_proportion,test_proportion):\n",
    "    assert training_proportion<=1.0\n",
    "    assert validation_proportion<=1.0\n",
    "    assert test_proportion<=1.0\n",
    "    assert (training_proportion+validation_proportion+test_proportion)<=1.0\n",
    "\n",
    "    idx_shuff=np.random.RandomState(seed=77).permutation(range(num_examples))\n",
    "\n",
    "    training_threshold=int(num_examples*training_proportion)\n",
    "    validation_threshold=int(num_examples*(training_proportion+validation_proportion))\n",
    "\n",
    "    training=range(training_threshold)\n",
    "    validation=range(training_threshold,min(validation_threshold,num_examples))\n",
    "    test=range(validation_threshold,num_examples)\n",
    "\n",
    "    return(idx_shuff[list(training)],idx_shuff[list(validation)],idx_shuff[list(test)])"
   ]
  },
  {
   "cell_type": "code",
   "execution_count": 133,
   "metadata": {},
   "outputs": [],
   "source": [
    "def fit_lasso_model(residual_no_outliers, ages, tol):\n",
    "    \"\"\" Build an age predictor with the lasso model and estimate its performance.\n",
    "    \n",
    "     Parameters\n",
    "    ----------\n",
    "    residual_no_outliers: pd.DataFrame\n",
    "        gene expression for a tissue after all preprocessing: \\\n",
    "        - QC of genes and samples\n",
    "        - regression of technical and phenotipic covariates explaining most of the variability \\\n",
    "            (except age, we need this variability, so we don't regress it out)\n",
    "        - removal of outliers\n",
    "    ages : np.array, int\n",
    "        ages of samples in a tissue gene expression matrix\n",
    "    tol : float, default=1e-4\n",
    "        tolerance for the optimization in the lasso model\n",
    "        \n",
    "     Outputs\n",
    "    ----------\n",
    "    genes : np.array, str\n",
    "        genes that are predictive of the age according to the lasso model\n",
    "    score : float\n",
    "        coefficient of determination R^2 of the prediction\n",
    "    pearsonr : float\n",
    "        Pearson's correlation coefficient\n",
    "    ages_test : np.array, int\n",
    "        true ages for the test set\n",
    "    ages_pred_test : np.array, int\n",
    "        predicted ages for the test set\n",
    "    \"\"\"\n",
    "    ages_all = ages\n",
    "    \n",
    "    # built the age prediction model with the lasso algorithm with cross-validation\n",
    "    X = residual_no_outliers.transpose()\n",
    "    y = ages_all\n",
    "    \n",
    "    # you can try a different model here\n",
    "    reg = LassoCV(cv=5, random_state=0, tol = tol).fit(X, y)\n",
    "    score = reg.score(X, y)\n",
    "    \n",
    "    # select genes predictive of age chosen by the lasso model\n",
    "    genes = [residual_no_outliers.index[i] for i in range(residual_no_outliers.shape[0]) if reg.coef_[i]!=0]\n",
    "    expr_sel_genes = residual_no_outliers.loc[genes,:]\n",
    "    \n",
    "    # split dataset into training, validation, and test sets\n",
    "    train, test, val = split_train_valid_test(residual_no_outliers.shape[1], 0.7, 0.3, 0)\n",
    "    ages_train = np.asarray([ages[i] for i in train])\n",
    "    ages_test = np.asarray([ages[i] for i in test])\n",
    "    \n",
    "    # calculate age predicted by the model and \n",
    "    # correlation of the predicted age with chronological age\n",
    "    coeffs_final, intercepts_final, prediction_final = \\\n",
    "    linear_regression(expr_sel_genes.iloc[:,train].transpose(), ages_train) \n",
    "    ages_pred_test = intercepts_final + \\\n",
    "    np.asmatrix(expr_sel_genes.iloc[:,test].transpose())*np.asmatrix(coeffs_final).transpose()\n",
    "    ages_pred_test = [np.asarray(age)[0][0] for age in ages_pred_test]\n",
    "    pearsonr = ss.pearsonr(ages_pred_test, ages_test)\n",
    "    print(pearsonr)\n",
    "    \n",
    "    # plot clock prediction\n",
    "    fig, ax = plt.subplots(1, 1, figsize=(7, 5))\n",
    "    ax.scatter(ages_test, ages_pred_test)\n",
    "    ax.set_xlabel(\"Chronological age, years\", fontsize = xlabel_fontsize)\n",
    "    ax.set_ylabel(\"Predicted age, years\", fontsize = ylabel_fontsize)\n",
    "    ax.set_title(str(tissue),  fontsize = title_fontsize)\n",
    "    textstr = \"Pearson's r=\" + str(round(pearsonr[0],2))\n",
    "    props = dict(boxstyle='round', facecolor='wheat', alpha=0.5)\n",
    "    ax.text(0.05, 0.95, textstr, transform=ax.transAxes, fontsize=14, verticalalignment='top', bbox=props)\n",
    "    plt.tight_layout()\n",
    "    pp = \"/om2/user/elvira/figures/Aging_clock/Clock_\" + str(tissue) + figure_format\n",
    "#     plt.savefig(pp, format = figure_format)\n",
    "    return(genes, score, pearsonr, ages_test, ages_pred_test)\n"
   ]
  },
  {
   "cell_type": "code",
   "execution_count": 134,
   "metadata": {},
   "outputs": [],
   "source": [
    "# import torch\n",
    "# class MLP(Module):\n",
    "#     # define model elements\n",
    "#     def __init__(self, n_genes, n_celltypes = 7):\n",
    "#         super(MLP, self).__init__()\n",
    "#         self.gene_to_hidden[n_celltypes] = [Linear(n_genes, 100) for i in range(n_celltypes)]\n",
    "#         self.hidden_to_hidden2 = Linear(100, 100)\n",
    "#         self.hidden2_to_hidden3 = Linear(n_genes, 100)\n",
    "#         self.hidden3_to_age = Linear(n_genes, 100)\n",
    "#         self.activation = ReLU()\n",
    "#         self.n_celltypes = n_celltypes\n",
    "#         self.n_genes = n_genes\n",
    "#     # forward propagate input\n",
    "\n",
    "#     def forward(self, X, freq):\n",
    "#         \"\"\"\n",
    "#             X - 2d matrix of shape: patients x (n_genes x n_celltypes)\n",
    "#             freq - 2d matrix of shape: patients x n_celltypes\n",
    "#         \"\"\"\n",
    "#         assert(X.shape[1] == self.n_genes * self.n_celltypes)\n",
    "#         assert(freq.shape[1] == self.n_celltypes)\n",
    "#         assert(X.shape[0] == freq.shape[0])\n",
    "#         layer2 = X[:, 0:]\n",
    "#         X[:, 0:] = self.gene_to_hidden[0](X[:, 0:])\n",
    "#         X = self.activation(X)\n",
    "#         return X"
   ]
  },
  {
   "cell_type": "code",
   "execution_count": 135,
   "metadata": {},
   "outputs": [],
   "source": [
    "import scipy.stats as st\n",
    "from sklearn.neural_network import MLPRegressor\n",
    "from sklearn.model_selection import RandomizedSearchCV\n",
    "from sklearn.metrics import mean_absolute_error\n",
    "\n",
    "def mlp_tuned_model(x_train, y_train, x_test, y_test, n_iter=5, cv=5): # adapted from UROP work, changed n_iter from 10 to 2\n",
    "    \n",
    "    hidden_layer_options = [(100, 50), (100, 50, 10), (100, 10), (50, 50, 50)]\n",
    "    learning_rate = [.001, .0003, .0001, 3e-5]\n",
    "    learning_types = [\"adaptive\", \"invscaling\"]\n",
    "    alphas = [1e-8, 1e-6, 1e-4, 1e-2]\n",
    "    if(runmode == \"prod\"):\n",
    "        epochs = [3500]\n",
    "    else:\n",
    "        epochs = [2]\n",
    "        n_iter = 2\n",
    "\n",
    "    random_grid = {'hidden_layer_sizes': hidden_layer_options,\n",
    "                    'alpha': alphas,\n",
    "                    'learning_rate_init':learning_rate,\n",
    "                    \"learning_rate\": learning_types,\n",
    "                    \"max_iter\": epochs}\n",
    "\n",
    "    mlp = MLPRegressor()\n",
    "\n",
    "    print(\"Init params for search\")\n",
    "\n",
    "    mlp_hyper = RandomizedSearchCV(mlp, random_grid, n_iter = n_iter, cv = cv, random_state=42, n_jobs = 15, scoring='neg_root_mean_squared_error', return_train_score = True)\n",
    "    model = mlp_hyper.fit(x_train, y_train)\n",
    "    print(\"done after search\")\n",
    "    preds = mlp_hyper.predict(x_test)\n",
    "    \n",
    "    parameter_tuning = mlp_hyper.cv_results_\n",
    "    parameter_tuning = pd.DataFrame(parameter_tuning)\n",
    "    print(parameter_tuning)\n",
    "    print(parameter_tuning[['params', 'rank_test_score', 'mean_test_score', 'std_test_score']])\n",
    "    print(mlp_hyper.best_params_)\n",
    "    print(mlp_hyper.best_score_)\n",
    "#     return xgb_hyper.best_estimator_,parameter_tuning \n",
    "    return preds, mlp_hyper.best_score_"
   ]
  },
  {
   "cell_type": "code",
   "execution_count": 151,
   "metadata": {},
   "outputs": [
    {
     "name": "stdout",
     "output_type": "stream",
     "text": [
      "Shapes good!\n"
     ]
    }
   ],
   "source": [
    "# Do data normalization\n",
    "\n",
    "def normalize_data(data_in, data_min=None, data_max=None):\n",
    "    \"\"\"\n",
    "    Normalize the data\n",
    "    :param data: Data to normalize\n",
    "    :param data_min: The minimum possible value of data\n",
    "    :param data_max: The maximum possible value of data\n",
    "    :return: Normalized data\n",
    "    from https://github.com/APS360-Team-34/Hit-Song-Prediction/blob/d7910da2a68257bb70d60a604fa9f361d2b08ad0/DataProcessing.py\n",
    "    \"\"\"    \n",
    "    if(type(data_in) == list):\n",
    "        data = pd.DataFrame(data_in)\n",
    "    else:\n",
    "        data = data_in\n",
    "        \n",
    "    if data_min is None:\n",
    "        data_min = data.min()\n",
    "    if data_max is None:\n",
    "        data_max = data.max()\n",
    "    final_array =  (data - data_min) / (data_max - data_min)\n",
    "    return final_array.values.squeeze().tolist() if type(data_in) == list else final_array, data_min, data_max\n",
    "\n",
    "def denormalize_data(data_in, data_min, data_max):\n",
    "    \"\"\"\n",
    "    Normalize the data\n",
    "    :param data: Data to normalize\n",
    "    :param data_min: The minimum possible value of data\n",
    "    :param data_max: The maximum possible value of data\n",
    "    :return: Normalized data\n",
    "    from https://github.com/APS360-Team-34/Hit-Song-Prediction/blob/d7910da2a68257bb70d60a604fa9f361d2b08ad0/DataProcessing.py\n",
    "    \"\"\"\n",
    "#     if(not data_min or not data_max):\n",
    "#         return data_in\n",
    "    \n",
    "    if(type(data_in) == list):\n",
    "        data = pd.DataFrame(data_in)\n",
    "    else:\n",
    "        data = data_in\n",
    "    \n",
    "    final_array = ((data) * (data_max - data_min)  + data_min)\n",
    "    return final_array.squeeze().tolist() if type(data_in) == list else final_array\n",
    "\n",
    "ages_normalized = {tissue:None for tissue in tissues}\n",
    "data_min = {tissue:None for tissue in tissues}\n",
    "data_max= {tissue:None for tissue in tissues}\n",
    "data_normalized = {tissue:None for tissue in tissues}\n",
    "ages_min = {tissue:None for tissue in tissues}\n",
    "ages_max = {tissue:None for tissue in tissues}\n",
    "for i, tissue in enumerate(tissues):\n",
    "    data_normalized[tissue], data_min[tissue], data_max[tissue] = normalize_data(data[tissue])\n",
    "    ages_normalized[tissue], ages_min[tissue], ages_max[tissue] = normalize_data(age[tissue])\n",
    "    dec = np.squeeze(np.array(denormalize_data(ages_normalized[tissue], ages_min[tissue], ages_max[tissue])))\n",
    "    assert(np.allclose(data[tissue].to_numpy(), (denormalize_data(data_normalized[tissue], data_min[tissue], data_max[tissue]).to_numpy())))\n",
    "    assert(np.allclose(np.array(age[tissue]), np.array(dec)))\n",
    "print(\"Shapes good!\")"
   ]
  },
  {
   "cell_type": "code",
   "execution_count": 208,
   "metadata": {},
   "outputs": [],
   "source": [
    "from sklearn.neural_network import MLPRegressor\n",
    "from sklearn.linear_model import LinearRegression\n",
    "\n",
    "def fit_mlp_model(residual_no_outliers, ages, tissue, scalery, tune:bool=False, alpha=0.0001, epochs=3500, lr = 0.0003):\n",
    "    \"\"\" Build an age predictor with the lasso model and estimate its performa nce.\n",
    "    \n",
    "     Parameters\n",
    "    ----------\n",
    "    residual_no_outliers: pd.DataFrame\n",
    "        gene expression for a tissue after all preprocessing: \\\n",
    "        - QC of genes and samples\n",
    "        - regression of technical and phenotipic covariates explaining most of the variability \\\n",
    "            (except age, we need this variability, so we don't regress it out)\n",
    "        - removal of outliers\n",
    "    ages : np.array, int\n",
    "        ages of samples in a tissue gene expression matrix\n",
    "    tissue : string\n",
    "        name of the tissue\n",
    "    alpha: int\n",
    "        lr\n",
    "    epochs: int\n",
    "        epochs \n",
    "    ages_min, ages_max: pd.dfs that can unnormalize the ages for an accurate correlation\n",
    "        \n",
    "     Outputs\n",
    "    ----------\n",
    "    genes : np.array, str\n",
    "        genes that are predictive of the age according to the lasso model\n",
    "    score : float\n",
    "        coefficient of determination R^2 of the prediction\n",
    "    pearsonr : float\n",
    "        Pearson's correlation coefficient\n",
    "    ages_test : np.array, int\n",
    "        true ages for the test set\n",
    "    ages_pred_test : np.array, int\n",
    "        predicted ages for the test set\n",
    "    \"\"\"\n",
    "    ages_all = ages\n",
    "    \n",
    "    # built the age prediction model with the lasso algorithm with cross-validation\n",
    "    X = residual_no_outliers.transpose()\n",
    "    y = ages_all\n",
    "    \n",
    "    # split dataset into training, validation, and test sets\n",
    "    train, test, val = split_train_valid_test(residual_no_outliers.shape[1], 0.7, 0.3, 0)\n",
    "    \n",
    "    # calculate age predicted by the model and \n",
    "    # correlation of the predicted age with chronological age\n",
    "    \n",
    "    x_train = residual_no_outliers.iloc[:,train].transpose()\n",
    "    x_test = residual_no_outliers.iloc[:,test].transpose()\n",
    "    print(\"data done\")\n",
    "\n",
    "    ages_train = np.asarray([ages[i] for i in train])\n",
    "    ages_test = np.asarray([ages[i] for i in test])\n",
    "    print(x_train.shape, x_test.shape, ages_train.shape)\n",
    "    \n",
    "    # print(\"Training lin reg\")\n",
    "    # model = LinearRegression()\n",
    "    # reg = model.fit(x_train, ages_train)\n",
    "    # print(\"Finished training lin reg\")\n",
    "    epochs = 2 if runmode != \"prod\" else epochs\n",
    "    \n",
    "    if(not tune):\n",
    "        # you can try a different model here\n",
    "        print(\"Training neural net\")\n",
    "        hidden_structure = (100, 10)\n",
    "        model = MLPRegressor(hidden_layer_sizes=hidden_structure, max_iter=epochs, verbose=True, alpha=alpha, learning_rate=\"adaptive\", learning_rate_init=lr)\n",
    "        reg = model.fit(x_train, ages_train)\n",
    "        preds = reg.predict(x_test)\n",
    "        score = reg.score(x_test, ages_test)\n",
    "        print(\"Finished training neural net\")\n",
    "        # save the model to disk\n",
    "        filename = 'saved_variables/mlp_alpha' + str(alpha) + \"_lr\" + str(lr) + \"_structure\" + \"_\".join(str(hidden_structure).split(\" \")) + \"_\".join(tissue.split(\" \")) + \"_score\" + str(score) + '.sav'\n",
    "        pickle.dump(model, open(filename, 'wb'))\n",
    "    else:\n",
    "        print(\"Hyperparmater tuning neural net\")\n",
    "        preds, score = mlp_tuned_model(x_train, ages_train, x_test, ages_test)\n",
    "        print(\"Finished tuning neural net\")\n",
    "        # On blood vessel, best is -- 'verbose': True, 'max_iter': 1200, 'learning_rate_init': 0.0003, 'learning_rate': 'adaptive', 'hidden_layer_sizes': (100, 10), 'alpha': 0.0001 \n",
    "\n",
    "    # previously trained on lasso\n",
    "    # reg = LassoCV(cv=5, random_state=0, tol = tol).fit(X, y)\n",
    "    print(\"Predicted, real: \", preds[0:10], ages_test[0:10])\n",
    "    print(\"Score: \", score)\n",
    "\n",
    "    # set ages pred test to prediction\n",
    "    assert(len(x_test) > 2)\n",
    "    preds = scalery.inverse_transform(preds)\n",
    "    ages_test = scalery.inverse_transform(ages_test)\n",
    "    \n",
    "    pearsonr = ss.pearsonr(preds, ages_test)\n",
    "    print(\"Pearson r: \", pearsonr)\n",
    "    \n",
    "    # plot clock prediction\n",
    "    fig, ax = plt.subplots(1, 1, figsize=(7, 5))\n",
    "    ax.scatter(ages_test, preds)\n",
    "    ax.set_xlabel(\"Chronological age, years\", fontsize = xlabel_fontsize)\n",
    "    ax.set_ylabel(\"Predicted age, years\", fontsize = ylabel_fontsize)\n",
    "    ax.set_title(str(tissue),  fontsize = title_fontsize)\n",
    "    textstr = \"Pearson's r=\" + str(round(pearsonr[0],2))\n",
    "    props = dict(boxstyle='round', facecolor='wheat', alpha=0.5)\n",
    "    ax.text(0.05, 0.95, textstr, transform=ax.transAxes, fontsize=14, verticalalignment='top', bbox=props)\n",
    "    plt.tight_layout()\n",
    "    pp = \"/om2/user/elvira/figures/Aging_clock/Clock_\" + str(tissue) + figure_format\n",
    "#     plt.savefig(pp, format = figure_format)\n",
    "    return(score, pearsonr, ages_test, preds)"
   ]
  },
  {
   "cell_type": "code",
   "execution_count": 207,
   "metadata": {
    "scrolled": false,
    "tags": []
   },
   "outputs": [
    {
     "name": "stdout",
     "output_type": "stream",
     "text": [
      "data done\n",
      "(7, 19544) (3, 19544) (7,)\n",
      "Hyperparmater tuning neural net\n",
      "Init params for search\n"
     ]
    },
    {
     "name": "stderr",
     "output_type": "stream",
     "text": [
      "c:\\tools\\anaconda3\\envs\\py38\\lib\\site-packages\\sklearn\\neural_network\\_multilayer_perceptron.py:582: ConvergenceWarning: Stochastic Optimizer: Maximum iterations (2) reached and the optimization hasn't converged yet.\n",
      "  warnings.warn(\n"
     ]
    },
    {
     "name": "stdout",
     "output_type": "stream",
     "text": [
      "done after search\n",
      "   mean_fit_time  std_fit_time  mean_score_time  std_score_time  \\\n",
      "0       0.602989      0.066111         0.130208        0.004902   \n",
      "1       0.539189      0.078066         0.132215        0.002705   \n",
      "\n",
      "  param_max_iter param_learning_rate_init param_learning_rate  \\\n",
      "0              2                    3e-05          invscaling   \n",
      "1              2                    0.001            adaptive   \n",
      "\n",
      "  param_hidden_layer_sizes param_alpha  \\\n",
      "0                (100, 10)       1e-06   \n",
      "1            (100, 50, 10)       1e-06   \n",
      "\n",
      "                                              params  ...  mean_test_score  \\\n",
      "0  {'max_iter': 2, 'learning_rate_init': 3e-05, '...  ...        -0.709247   \n",
      "1  {'max_iter': 2, 'learning_rate_init': 0.001, '...  ...        -0.739378   \n",
      "\n",
      "   std_test_score  rank_test_score  split0_train_score  split1_train_score  \\\n",
      "0        0.304570                1           -0.617999           -0.750566   \n",
      "1        0.504951                2           -1.394708           -0.863890   \n",
      "\n",
      "   split2_train_score  split3_train_score  split4_train_score  \\\n",
      "0           -1.026275           -0.221873           -0.904425   \n",
      "1           -1.130119           -0.084628           -0.243321   \n",
      "\n",
      "   mean_train_score  std_train_score  \n",
      "0         -0.704228         0.277864  \n",
      "1         -0.743333         0.504447  \n",
      "\n",
      "[2 rows x 25 columns]\n",
      "                                              params  rank_test_score  \\\n",
      "0  {'max_iter': 2, 'learning_rate_init': 3e-05, '...                1   \n",
      "1  {'max_iter': 2, 'learning_rate_init': 0.001, '...                2   \n",
      "\n",
      "   mean_test_score  std_test_score  \n",
      "0        -0.709247        0.304570  \n",
      "1        -0.739378        0.504951  \n",
      "{'max_iter': 2, 'learning_rate_init': 3e-05, 'learning_rate': 'invscaling', 'hidden_layer_sizes': (100, 10), 'alpha': 1e-06}\n",
      "-0.7092473967742874\n",
      "Finished tuning neural net\n",
      "Predicted, real:  [0.12511073 0.12369524 0.12042878] [0.88 0.84 0.66]\n",
      "Score:  -0.7092473967742874\n",
      "Pearson r:  (0.991858725677418, 0.08128986427575544)\n",
      "data done\n",
      "(7, 21218) (3, 21218) (7,)\n",
      "Hyperparmater tuning neural net\n",
      "Init params for search\n"
     ]
    },
    {
     "name": "stderr",
     "output_type": "stream",
     "text": [
      "c:\\tools\\anaconda3\\envs\\py38\\lib\\site-packages\\sklearn\\neural_network\\_multilayer_perceptron.py:582: ConvergenceWarning: Stochastic Optimizer: Maximum iterations (2) reached and the optimization hasn't converged yet.\n",
      "  warnings.warn(\n"
     ]
    },
    {
     "name": "stdout",
     "output_type": "stream",
     "text": [
      "done after search\n",
      "   mean_fit_time  std_fit_time  mean_score_time  std_score_time  \\\n",
      "0       0.447775      0.009868           0.1460        0.002366   \n",
      "1       0.443774      0.004308           0.1434        0.002801   \n",
      "\n",
      "  param_max_iter param_learning_rate_init param_learning_rate  \\\n",
      "0              2                    3e-05          invscaling   \n",
      "1              2                    0.001            adaptive   \n",
      "\n",
      "  param_hidden_layer_sizes param_alpha  \\\n",
      "0                (100, 10)       1e-06   \n",
      "1            (100, 50, 10)       1e-06   \n",
      "\n",
      "                                              params  ...  mean_test_score  \\\n",
      "0  {'max_iter': 2, 'learning_rate_init': 3e-05, '...  ...        -0.459192   \n",
      "1  {'max_iter': 2, 'learning_rate_init': 0.001, '...  ...        -0.164995   \n",
      "\n",
      "   std_test_score  rank_test_score  split0_train_score  split1_train_score  \\\n",
      "0        0.139856                2           -0.584239           -0.460741   \n",
      "1        0.121109                1           -0.071196           -0.167092   \n",
      "\n",
      "   split2_train_score  split3_train_score  split4_train_score  \\\n",
      "0           -0.612505           -0.287236           -0.361113   \n",
      "1           -0.335028           -0.050562           -0.159387   \n",
      "\n",
      "   mean_train_score  std_train_score  \n",
      "0         -0.461167         0.125150  \n",
      "1         -0.156653         0.100491  \n",
      "\n",
      "[2 rows x 25 columns]\n",
      "                                              params  rank_test_score  \\\n",
      "0  {'max_iter': 2, 'learning_rate_init': 3e-05, '...                2   \n",
      "1  {'max_iter': 2, 'learning_rate_init': 0.001, '...                1   \n",
      "\n",
      "   mean_test_score  std_test_score  \n",
      "0        -0.459192        0.139856  \n",
      "1        -0.164995        0.121109  \n",
      "{'max_iter': 2, 'learning_rate_init': 0.001, 'learning_rate': 'adaptive', 'hidden_layer_sizes': (100, 50, 10), 'alpha': 1e-06}\n",
      "-0.16499528040320038\n",
      "Finished tuning neural net\n",
      "Predicted, real:  [-0.67507182 -0.67320765 -0.67581663] [0.92 0.84 0.88]\n",
      "Score:  -0.16499528040320038\n",
      "Pearson r:  (-0.6935596163691573, 0.5120827989313911)\n"
     ]
    },
    {
     "data": {
      "image/png": "[encoded data removed]",
      "text/plain": [
       "<Figure size 504x360 with 1 Axes>"
      ]
     },
     "metadata": {
      "needs_background": "light"
     },
     "output_type": "display_data"
    },
    {
     "data": {
      "image/png": "[encoded data removed]",
      "text/plain": [
       "<Figure size 504x360 with 1 Axes>"
      ]
     },
     "metadata": {
      "needs_background": "light"
     },
     "output_type": "display_data"
    }
   ],
   "source": [
    "from sklearn.preprocessing import StandardScaler\n",
    "\n",
    "# This section checks for the MLP training on the whole data, with attempting to learn one data point\n",
    "from pandas import DataFrame as df\n",
    "genes_clock = {}\n",
    "score = {}\n",
    "pearson_corr = {}\n",
    "prediction = {}\n",
    "true = {}\n",
    "\n",
    "newAges = {}\n",
    "tissue_num = 2 if runmode != \"prod\" else len(tissues)\n",
    "\n",
    "for i, tissue in enumerate(tissues[:tissue_num]):\n",
    "    scalerX = StandardScaler().fit(data[tissue].T)\n",
    "    scalery = StandardScaler().fit(np.array(age[tissue]).reshape(-1, 1))\n",
    "    data_norm = scalerX.transform(data[tissue].T).T\n",
    "    ages_norm = scalery.transform(np.array(age[tissue]).reshape(-1, 1))\n",
    "\n",
    "    newAges[tissue] = ages_normalized[tissue]\n",
    "\n",
    "    points = 10 if runmode != \"prod\" else data_normalized[tissue].shape[1]\n",
    "    assert(points <= data_normalized[tissue].shape[1]) # 803 max\n",
    "    \n",
    "    # This transpose: data_normalized[tissue].T.iloc[:points].T is so we can take the first points rows\n",
    "    score[tissue], pearson_corr[tissue], true[tissue], prediction[tissue] = \\\n",
    "    fit_mlp_model(data_normalized[tissue].T.iloc[:points].T, ages_normalized[tissue][:points], tissue, scalery, True) # tunes\n",
    "    # fit_mlp_model(data_normalized[tissue].T.iloc[:points].T, age[tissue][:points], tissue, False, 0, 1000, 1e-2) # doesnt tune\n",
    "#mlpregressor\n",
    "#mlp classifier - 3.75"
   ]
  },
  {
   "cell_type": "code",
   "execution_count": null,
   "metadata": {},
   "outputs": [],
   "source": [
    "#Save results\n",
    "\n",
    "import pickle\n",
    "\n",
    "model_type = \"blood_vessel_tune_only\" # only hp tuned on blood vessels\n",
    "\n",
    "# store\n",
    "with open('saved_variables/score_' + model_type + '.pickle', 'wb') as handle:\n",
    "    pickle.dump(score, handle, protocol=pickle.HIGHEST_PROTOCOL)\n",
    "with open('saved_variables/pearson_corr_' + model_type + '.pickle', 'wb') as handle:\n",
    "    pickle.dump(pearson_corr, handle, protocol=pickle.HIGHEST_PROTOCOL)\n",
    "with open('saved_variables/true_' + model_type + '.pickle', 'wb') as handle:\n",
    "    pickle.dump(true, handle, protocol=pickle.HIGHEST_PROTOCOL)\n",
    "with open('saved_variables/prediction_' + model_type + '.pickle', 'wb') as handle:\n",
    "    pickle.dump(prediction, handle, protocol=pickle.HIGHEST_PROTOCOL)\n",
    "\n",
    "#load\n",
    "# with open('score.pickle', 'wb') as handle:\n",
    "#     score = pickle.load(handle)\n",
    "# with open('pearson_corr.pickle', 'wb') as handle:\n",
    "#     pearson_corr = pickle.load(handle)\n",
    "# with open('true.pickle', 'wb') as handle:\n",
    "#     true = pickle.load(handle)\n",
    "# with open('prediction.pickle', 'wb') as handle:\n",
    "#     prediction = pickle.load(handle)"
   ]
  },
  {
   "cell_type": "markdown",
   "metadata": {},
   "source": [
    "# Additional analysis"
   ]
  },
  {
   "cell_type": "markdown",
   "metadata": {},
   "source": [
    "### Comparing prediction accuracy for different tissues"
   ]
  },
  {
   "cell_type": "code",
   "execution_count": 154,
   "metadata": {},
   "outputs": [
    {
     "data": {
      "image/png": "[encoded data removed]",
      "text/plain": [
       "<Figure size 792x576 with 1 Axes>"
      ]
     },
     "metadata": {
      "needs_background": "light"
     },
     "output_type": "display_data"
    }
   ],
   "source": [
    "fig, ax = plt.subplots(figsize=(11,8))\n",
    "n=2\n",
    "x_coords = np.arange(0,n*len(tissues), n)\n",
    "ax.set_xticks(np.arange(0,n*len(tissues), n))\n",
    "coeff = np.asarray([pearson_corr[tissue][0] for tissue in tissues])\n",
    "ax.set_xticklabels([tissues[i] for i in np.argsort(coeff)[::-1]], rotation=45, fontsize=xlabel_fontsize)\n",
    "ax.bar(x_coords, coeff[np.argsort(coeff)[::-1]], \\\n",
    "    color='C0', edgecolor='white')\n",
    "ax.set_ylabel('Pearson correlation coefficient', fontsize=ylabel_fontsize) \n",
    "plt.tight_layout()\n",
    "pp = \"/Users/elvirakinzina/src/Aging_clock/Pictures/Number_of_genes_and_correlation.\" + figure_format\n",
    "# plt.savefig(pp, format = figure_format)"
   ]
  },
  {
   "cell_type": "markdown",
   "metadata": {},
   "source": [
    "## Define most important covariates\n",
    "These could be included in the model or regressed out to improve age prediction"
   ]
  },
  {
   "cell_type": "code",
   "execution_count": null,
   "metadata": {},
   "outputs": [],
   "source": [
    "def gaussian_project(data, standardize=True, noise=1e-6):\n",
    "    \"\"\" Project each row onto gaussian with matched mean, stdev \n",
    "\n",
    "    standardize : bool\n",
    "        project each row onto N(0, 1), otherwise use N(mu_row, sigma_row),\n",
    "        where mu_row is the mean of the row and sigma_row is the standard\n",
    "        deviation\n",
    "    noise : float\n",
    "        add random noise drawn from interval (0, noise) to break ties\n",
    "    \"\"\"\n",
    "    # add random noise to break ties\n",
    "    err = np.random.random(data.shape) * noise\n",
    "    data = data + err\n",
    "\n",
    "    ppt = data.rank(axis=1) / (float(data.shape[1])+1.)\n",
    "    if standardize:\n",
    "        df = pd.DataFrame(ss.norm.ppf(ppt), index=ppt.index, \n",
    "                          columns=ppt.columns)\n",
    "    else:\n",
    "        mu = data.mean(axis=1)\n",
    "        sigma = data.std(axis=1)\n",
    "        df = {}\n",
    "        for r in ppt.index:\n",
    "            df[r] = pd.Series(ss.norm.ppf(ppt.loc[r], loc=mu.loc[r],\n",
    "                                          scale=sigma.loc[r]), index=ppt.columns)\n",
    "        df = pd.DataFrame(df).T\n",
    "    return df\n",
    "def find_covars_corr_with_first_2_pcs(tissue, data, ax):\n",
    "        dt = data.copy()\n",
    "        dt_g = gaussian_project(dt)\n",
    "\n",
    "        assert(np.sort(np.std(dt_g))[0] > 0)\n",
    "        print(dt_g.shape)\n",
    "        assert(dt_g.equals(dt_g.replace(np.inf, np.nan).replace(-np.inf, np.nan).dropna()))\n",
    "        u, s, vh = np.linalg.svd(dt_g)\n",
    "        # print(s)\n",
    "        # print(np.sort(s))\n",
    "        # pca = PCA().fit(dt_g)\n",
    "        # u, s, vh = np.linalg.svd(dt_g[:-1, :])\n",
    "        # # print(s)\n",
    "        # print(np.sort(s))\n",
    "        pca = PCA().fit(dt_g)\n",
    "\n",
    "        # extract principal components\n",
    "        comps = pd.DataFrame(pca.components_.T, index=dt_g.columns,\n",
    "                             columns=['PC%i' % (i+1) for i in range(len(pca.components_))])\n",
    "        \n",
    "        # choose potential important covariates (add whatever you are interesred in)\n",
    "        covars = ['SMRIN', 'SMTSISCH', 'TRISCHD', 'ETHNCTY', 'RACE', 'AGE', 'BMI', 'SMNTRNRT', 'DTHRFG', 'DTHVNT', \\\n",
    "                  'SMATSSCR', 'SMALTALG', 'DTHHRDY', 'DTHHRDY']\n",
    "        print('components', pca.explained_variance_ratio_[0:10])\n",
    "    \n",
    "        if np.fabs(sum(pca.explained_variance_ratio_)-1)>0.1:\n",
    "            print('sum', sum(pca.explained_variance_ratio_))\n",
    "        \n",
    "        covs_r = {}\n",
    "        covs_p = {}\n",
    "        for pc in ['PC{}'.format(i+1) for i in range(10)]:\n",
    "            _r = {}\n",
    "            _p = {}\n",
    "            for cv in covars:\n",
    "                if cv in sampleMetaData.columns:\n",
    "                    covar_vals = np.asarray(sampleMetaData.loc[comps.index, cv])\n",
    "                elif cv in subjectMetaData.columns:\n",
    "                    sample_subject_ids = [index.split(\"-\")[0] + \"-\" + index.split(\"-\")[1] \\\n",
    "                                 for index in list(comps.index)]\n",
    "                    covar_vals = np.asarray(subjectMetaData.loc[sample_subject_ids, cv])\n",
    "                _r[cv], _p[cv] = ss.pearsonr(covar_vals[np.isfinite(covar_vals)], \\\n",
    "                                             comps.loc[np.isfinite(covar_vals), pc])\n",
    "                covs_r[pc] = pd.Series(_r)\n",
    "                covs_p[pc] = pd.Series(_p)\n",
    "        covs_r = pd.DataFrame(covs_r).loc[:, ['PC{}'.format(i+1) for i in range(10)]]\n",
    "        covs_p = pd.DataFrame(covs_p).loc[:, ['PC{}'.format(i+1) for i in range(10)]]\n",
    "\n",
    "        covarsMain = [covar for covar in covars if (covs_p.loc[covar,:][0:10]<0.05).any()==True]\n",
    "        first_2_pcs_pars = [covar for covar in covars if (covs_p.loc[covar,:][0:2]<0.05).any()==True]\n",
    "        ax.set_title(tissue)\n",
    "        sns.heatmap(-1*np.log10(covs_p.loc[covarsMain,:]), ax=ax, vmax=10, annot=True, fmt=\".1f\")\n",
    "        return(first_2_pcs_pars)"
   ]
  },
  {
   "cell_type": "code",
   "execution_count": null,
   "metadata": {
    "tags": []
   },
   "outputs": [],
   "source": [
    "fig, ax = plt.subplots(1, 1, figsize=(7, 5))\n",
    "first_2_pcs_pars = find_covars_corr_with_first_2_pcs('Muscle', data['Muscle'], ax)  "
   ]
  },
  {
   "cell_type": "code",
   "execution_count": null,
   "metadata": {},
   "outputs": [],
   "source": [
    "fig, ax = plt.subplots(1, 1, figsize=(7, 5))\n",
    "first_2_pcs_pars = find_covars_corr_with_first_2_pcs('Esophagus', data['Esophagus'], ax)"
   ]
  },
  {
   "cell_type": "markdown",
   "metadata": {},
   "source": [
    "## Color PCA by parameter (age, RNA quality, ischemic time before) values to explore important parameters for each tissue"
   ]
  },
  {
   "cell_type": "markdown",
   "metadata": {},
   "source": [
    "You can look at other technical or phenotypic covariates to find those that can possibly explain PCA patterns for tissues that clearly have clusters: skin and esophagus"
   ]
  },
  {
   "cell_type": "code",
   "execution_count": null,
   "metadata": {},
   "outputs": [],
   "source": [
    "def plot_pca_colored_by(data, parameter):\n",
    "    fig, ax = plt.subplots(1, 1, figsize=(7, 5))\n",
    "    pca = decomposition.PCA(n_components=2)\n",
    "    X = data.transpose().copy()\n",
    "    pca.fit(X)\n",
    "    y = np.asarray(parameter)\n",
    "    X = pca.transform(X)\n",
    "    y_no_na = y[np.where(np.isfinite(y))]\n",
    "    y_min = np.min(y_no_na)\n",
    "    y_max = np.max(y_no_na)\n",
    "    \n",
    "    for i in range(len(X[:, 0])):\n",
    "        if np.isfinite(y[i]):\n",
    "            alpha = float((y[i]-y_min)/float(y_max-y_min))\n",
    "            ax.scatter(X[i, 0], X[i, 1], color = 'green', alpha = alpha, s=15)"
   ]
  },
  {
   "cell_type": "code",
   "execution_count": null,
   "metadata": {},
   "outputs": [],
   "source": [
    "plot_pca_colored_by(residual_no_outliers[\"Esophagus\"], SMTSISCH[\"Esophagus\"])"
   ]
  },
  {
   "cell_type": "markdown",
   "metadata": {},
   "source": [
    "## Sample size of each tissue\n",
    "I chose top 8 tissues for the analysis above"
   ]
  },
  {
   "cell_type": "code",
   "execution_count": null,
   "metadata": {},
   "outputs": [],
   "source": [
    "# tissues = list(set(sampleMetaData['SMTS']))\n",
    "# sample_num = dict()\n",
    "# for tissue in tissues:\n",
    "#         data[tissue], age[tissue], SMRIN[tissue], SMTSISCH[tissue] = load_data(tissue)\n",
    "#         sample_num[tissue] = data[tissue].shape[1]\n",
    "# out_file = \"/om2/user/elvira/src/data/GTEx_v8/rna_seq/Tissues_sample_numbers.pkl\"\n",
    "# with open(out_file, \"wb\") as f:\n",
    "#     pickle.dump(sample_num,f,pickle.HIGHEST_PROTOCOL)"
   ]
  },
  {
   "cell_type": "code",
   "execution_count": null,
   "metadata": {},
   "outputs": [],
   "source": [
    "sample_num = pd.read_pickle(\"/om2/user/elvira/src/data/GTEx_v8/rna_seq/Tissues_sample_numbers.pkl\")\n",
    "tissues = list(sample_num.keys())\n",
    "sample_numbers = np.asarray([sample_num[tissue] for tissue in tissues])\n",
    "indices = np.argsort(sample_numbers)[::-1]\n",
    "fig, ax = plt.subplots(1, 1, figsize=(7, 5))\n",
    "ax.bar(range(len(tissues)), sample_numbers[indices])\n",
    "ax.set_xticks(range(len(tissues)))\n",
    "ax.set_xticklabels([tissues[index] for index in indices], rotation = 90)"
   ]
  },
  {
   "cell_type": "markdown",
   "metadata": {},
   "source": [
    "## Plot sample age distribution for each tissue\n",
    "Most samples are from elderly since they die more often"
   ]
  },
  {
   "cell_type": "code",
   "execution_count": null,
   "metadata": {},
   "outputs": [],
   "source": [
    "for tissue in tissues:\n",
    "    fig, ax = plt.subplots(1, 1, figsize=(4, 3))\n",
    "    ax.hist(age[tissue])\n",
    "    ax.set_title(tissue, fontsize=title_fontsize)"
   ]
  }
 ],
 "metadata": {
  "kernelspec": {
   "display_name": "Python 3",
   "language": "python",
   "name": "python3"
  },
  "language_info": {
   "codemirror_mode": {
    "name": "ipython",
    "version": 3
   },
   "file_extension": ".py",
   "mimetype": "text/x-python",
   "name": "python",
   "nbconvert_exporter": "python",
   "pygments_lexer": "ipython3",
   "version": "3.8.5"
  }
 },
 "nbformat": 4,
 "nbformat_minor": 1
}
