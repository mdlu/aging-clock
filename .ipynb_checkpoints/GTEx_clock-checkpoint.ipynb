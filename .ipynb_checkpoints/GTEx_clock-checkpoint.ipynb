{
 "cells": [
  {
   "cell_type": "code",
   "execution_count": 2,
   "metadata": {},
   "outputs": [],
   "source": [
    "import pickle\n",
    "import pyreadr\n",
    "import xgboost\n",
    "import scipy.stats as st\n",
    "import pandas as pd\n",
    "import numpy as np\n",
    "import scipy.stats as ss\n",
    "import seaborn as sns\n",
    "sns.set()\n",
    "from sklearn import decomposition\n",
    "from sklearn.decomposition import PCA\n",
    "from sklearn.linear_model import LassoCV\n",
    "from sklearn.datasets import make_regression\n",
    "import matplotlib.pyplot as plt\n",
    "import matplotlib.patches as mpatches\n",
    "title_fontsize = 20\n",
    "xlabel_fontsize = 18\n",
    "ylabel_fontsize = 18\n",
    "legend_fontsize = 14\n",
    "ticks_fontsize = 18\n",
    "figure_format = \"pdf\"\n",
    "%matplotlib inline"
   ]
  },
  {
   "cell_type": "code",
   "execution_count": 3,
   "metadata": {},
   "outputs": [],
   "source": [
    "# # below blocks are a poor attempt to recreate the necessary .pkl files for the load_data function later\n",
    "# import gzip\n",
    "# tpm_path= \"./GTEx_V8_RawData/GTEx_Analysis_2017-06-05_v8_RNASeQCv1.1.9_gene_tpm.gct.gz\"\n",
    "# f = gzip.open(tpm_path, 'rt')\n",
    "# file_content = f.read()"
   ]
  },
  {
   "cell_type": "code",
   "execution_count": 4,
   "metadata": {},
   "outputs": [],
   "source": [
    "# # f1 = open(\"GTEx_Analysis_2017-06-05_v8_RNASeQCv1.1.9_gene_tpm.gct\", \"w\")\n",
    "# # f1.write(file_content)\n",
    "# # f1.close()\n",
    "\n",
    "# # from cmapPy.pandasGEXpress.parse_gct import parse\n",
    "# # tpm_data = parse(file_content)\n",
    "\n",
    "# # from io import StringIO\n",
    "\n",
    "# # s = str(file_content,'utf-8')\n",
    "# # data = StringIO(s) \n",
    "\n",
    "# # much too slow\n",
    "# tpm_data = pd.read_csv(data, delimiter='\\t', skiprows=2)\n",
    "# print(list(tpm_data.columns))"
   ]
  },
  {
   "cell_type": "markdown",
   "metadata": {},
   "source": [
    "## Load metadata for samples and subjects in GTEx"
   ]
  },
  {
   "cell_type": "code",
   "execution_count": 3,
   "metadata": {},
   "outputs": [
    {
     "name": "stderr",
     "output_type": "stream",
     "text": [
      "c:\\python37\\lib\\site-packages\\IPython\\core\\interactiveshell.py:3063: DtypeWarning: Columns (5) have mixed types.Specify dtype option on import or set low_memory=False.\n",
      "  interactivity=interactivity, compiler=compiler, result=result)\n"
     ]
    }
   ],
   "source": [
    "# load sample metadata: 18220 samples, 73 technnical parameters\n",
    "sampleMetaData = pd.read_csv('./GTEx_V8_RawData/GTEx_Analysis_2017-06-05_v8_Annotations_SampleAttributesDS.txt', sep = '\\t', header = 'infer', index_col=0)\n",
    "# load sample metadata: 948 people, 174 phenotipic parameters\n",
    "subjectMetaData = pd.read_csv('./GTEx_V8_RawData/GTEx_Analysis_2017-06-05_v8_Annotations_SubjectPhenotypesDS.txt', sep = '\\t', header = 'infer', index_col=0)"
   ]
  },
  {
   "cell_type": "markdown",
   "metadata": {},
   "source": [
    "## Load data by tissue"
   ]
  },
  {
   "cell_type": "code",
   "execution_count": 4,
   "metadata": {},
   "outputs": [],
   "source": [
    "def load_data(tissue):\n",
    "    \"\"\" Load gene expression for each tissue.\n",
    "    \n",
    "     Parameters\n",
    "    ----------\n",
    "    tissue: one of GTEx tissues\n",
    "    \n",
    "     Outputs\n",
    "    ----------\n",
    "    data : pd.DataFrame\n",
    "        genes x samples dataframe\n",
    "    age : np.array, int\n",
    "        age of each subject who provided the sample for the tissue\n",
    "    SMRIN : np.array, float\n",
    "        RIN number (RNA integrity number) for each sample\n",
    "    SMTSISCH : np.array, int\n",
    "        total ischemic time for each sample\n",
    "    \"\"\"\n",
    "    \n",
    "    print(tissue)\n",
    "    data_p_file = \"./GTEx_V8_RNASeq_subTissueTypes/Expr_by_tissue/Expr_by_tissue/GTEx_Analysis_2017-06-05_v8_RNASeQCv1.1.9_gene_tpm_\"+\\\n",
    "    str(tissue)+\".pkl\"\n",
    "    data = pd.read_pickle(data_p_file)\n",
    "# TODO AAYUSH\n",
    "#     # replace with RData ??\n",
    "#     data_p_file = \"./GTEx_V8_RNASeq_subTissueTypes/GTEx_\" + str(tissue) + \".RData\"\n",
    "#     data = pyreadr.read_r(data_p_file)\n",
    "#     print(data.keys())\n",
    "#     for key in data.keys():\n",
    "#         print(data[key])\n",
    "    \n",
    "    gene_ids = data['Name']\n",
    "    gene_names = data['Description']\n",
    "    data.index = gene_ids\n",
    "    data = data.iloc[:,2:]\n",
    "    print(data.shape[1], \" samples, \", data.shape[0], \"genes\")\n",
    "    \n",
    "    # filter out genes that are expressed in fewer than 10% of samples\n",
    "    data = data[(data.T == 0).sum()<0.1*data.shape[1]]\n",
    "    print(str(len((data.T == 0).sum()>0.1*data.shape[1])) + \" genes filtered out\")\n",
    "    \n",
    "    # filter out samples that express fewer than 10% of genes\n",
    "    data = data.loc[:,data.columns[(pd.isna(data)).sum()<0.1*data.shape[0]]]\n",
    "    print(str(len(data.columns[(pd.isna(data)).sum()>0.1*data.shape[0]])) + \" samples filtered out\")\n",
    "    \n",
    "    # load age, SNRIN, and SMTSUSCH values for each subject\n",
    "    subject_ids = [subject_id.split(\"-\")[0]+\"-\"+subject_id.split(\"-\")[1] for subject_id in \\\n",
    "     data.columns.tolist()]\n",
    "    age = [np.asarray(subjectMetaData.loc[subjectMetaData.index==subject_id,'AGE'])[0] \\\n",
    "                   for subject_id in subject_ids]\n",
    "    SMRIN = [np.asarray(sampleMetaData.loc[sampleMetaData.index==sample_id,'SMRIN'])[0] \\\n",
    "                   for sample_id in data.columns.tolist()]\n",
    "    SMTSISCH = [np.asarray(sampleMetaData.loc[sampleMetaData.index==sample_id,'SMTSISCH'])[0] \\\n",
    "                   for sample_id in data.columns.tolist()]\n",
    "    return data, age, SMRIN, SMTSISCH"
   ]
  },
  {
   "cell_type": "markdown",
   "metadata": {},
   "source": [
    "## Load and filter data"
   ]
  },
  {
   "cell_type": "markdown",
   "metadata": {},
   "source": [
    "Choosing tissues that have > 800 samples (8 tissues in GTEx). It is arbitrary, so you can choose a lower threshold to study more tissues if your age prediciton model works even for fewer samples"
   ]
  },
  {
   "cell_type": "code",
   "execution_count": 5,
   "metadata": {},
   "outputs": [],
   "source": [
    "# tissues = ['Muscle',\n",
    "#  'Blood Vessel',\n",
    "#  'Brain',\n",
    "#  'Blood',\n",
    "#  'Skin',\n",
    "#  'Esophagus',\n",
    "#  'Heart',\n",
    "#  'Adipose Tissue']\n",
    "tissues = ['Muscle', 'Blood Vessel']\n",
    "# tissues = ['Muscle_Skeletal']"
   ]
  },
  {
   "cell_type": "code",
   "execution_count": 6,
   "metadata": {
    "scrolled": false
   },
   "outputs": [
    {
     "name": "stdout",
     "output_type": "stream",
     "text": [
      "Muscle\n",
      "804  samples,  56200 genes\n",
      "19544 genes filtered out\n",
      "0 samples filtered out\n",
      "Blood Vessel\n",
      "1335  samples,  56200 genes\n",
      "21218 genes filtered out\n",
      "0 samples filtered out\n"
     ]
    }
   ],
   "source": [
    "data = {}\n",
    "age = {}\n",
    "SMRIN = {}\n",
    "SMTSISCH = {}\n",
    "\n",
    "for tissue in tissues:\n",
    "    data[tissue], age[tissue], SMRIN[tissue], SMTSISCH[tissue] = load_data(tissue)"
   ]
  },
  {
   "cell_type": "markdown",
   "metadata": {},
   "source": [
    "## Correct for covariates and remove outliers"
   ]
  },
  {
   "cell_type": "markdown",
   "metadata": {},
   "source": [
    "### Find genes with weak correlation with age"
   ]
  },
  {
   "cell_type": "code",
   "execution_count": 7,
   "metadata": {},
   "outputs": [],
   "source": [
    "def define_non_age_related_genes(data, age):\n",
    "    rhos = np.zeros((len(data.index.tolist())))\n",
    "    spear_pvals = np.zeros((len(data.index.tolist())))\n",
    "    for i, gene in enumerate(data.index.tolist()):\n",
    "        rhos[i], spear_pvals[i] = ss.spearmanr(data.loc[gene,:], age, nan_policy = 'omit')\n",
    "    gene_idxs = range(data.shape[0])\n",
    "    gene_idxs = [gene_idx for gene_idx in gene_idxs if spear_pvals[gene_idx]>0.01]\n",
    "    print(str(len(gene_idxs)) + \" genes with no correlation with age\")\n",
    "    non_aging_expr = data.iloc[gene_idxs,:]\n",
    "    return(non_aging_expr)"
   ]
  },
  {
   "cell_type": "markdown",
   "metadata": {},
   "source": [
    "### Perform SVD (singular value decomposition) of non-age related gene expression"
   ]
  },
  {
   "cell_type": "code",
   "execution_count": 8,
   "metadata": {},
   "outputs": [],
   "source": [
    "def svd(non_aging_expr, n_comp = 50):\n",
    "    u, s, vh  = np.linalg.svd(non_aging_expr.transpose())\n",
    "    d2 = s**2\n",
    "    print(\"first \" + str(n_comp) + \" components explain \" + str(d2[:n_comp].sum()/d2.sum()) + \" variability\")\n",
    "    print(u.shape)\n",
    "    u_top_10 = u[:n_comp,:]\n",
    "    x_0 = u_top_10*s\n",
    "    return(x_0)"
   ]
  },
  {
   "cell_type": "markdown",
   "metadata": {},
   "source": [
    "### Regress out non-age-related covariates"
   ]
  },
  {
   "cell_type": "code",
   "execution_count": 9,
   "metadata": {},
   "outputs": [],
   "source": [
    "import sklearn.linear_model as linear_model\n",
    "def linear_regression(x_train, y_train):\n",
    "    ols = linear_model.LinearRegression()\n",
    "    model = ols.fit(x_train, y_train)\n",
    "    return ols.coef_, ols.intercept_, ols.predict(x_train)\n",
    "\n",
    "def regress_covariates(data, x_0):\n",
    "    coeffs, intercepts, prediction = linear_regression(x_0.transpose(), data.transpose()) \n",
    "    residual = (data.transpose()-np.asmatrix(x_0.transpose())*coeffs.transpose()).transpose()\n",
    "    return residual"
   ]
  },
  {
   "cell_type": "markdown",
   "metadata": {},
   "source": [
    "### Exclude non-age-related genes"
   ]
  },
  {
   "cell_type": "code",
   "execution_count": 10,
   "metadata": {},
   "outputs": [],
   "source": [
    "def exclude_non_age_related_genes(residual, gene_idxs):\n",
    "    aging_gene_idxs = [i for i in range(len(residual.index)) if i not in gene_idxs]\n",
    "    residual_aging = residual.iloc[aging_gene_idxs,:]\n",
    "    return(residual_aging)"
   ]
  },
  {
   "cell_type": "markdown",
   "metadata": {},
   "source": [
    "### Remove outliers"
   ]
  },
  {
   "cell_type": "code",
   "execution_count": 11,
   "metadata": {},
   "outputs": [],
   "source": [
    "def plot_PCA(X, ax, tissue):\n",
    "    for i in range(len(X[:, 0])):\n",
    "        ax.scatter(X[i, 0], X[i, 1], color = 'C0')\n",
    "    ax.set_title(tissue, fontsize = title_fontsize)\n",
    "    ax.set_xlabel('PC1', fontsize = xlabel_fontsize)\n",
    "    ax.set_xlabel('PC2', fontsize = ylabel_fontsize)"
   ]
  },
  {
   "cell_type": "code",
   "execution_count": 12,
   "metadata": {},
   "outputs": [],
   "source": [
    "from sklearn import decomposition\n",
    "def detect_outliers(residual_aging, tissue):\n",
    "    pca = decomposition.PCA(n_components=2)\n",
    "    X = residual_aging.transpose().copy()\n",
    "    pca.fit(X)\n",
    "    X = pca.transform(X)\n",
    "    fig, ax = plt.subplots(1, 1, figsize=(7, 5))\n",
    "    plot_PCA(X, ax, tissue)\n",
    "    q1 = pd.DataFrame(X[:, 0]).quantile(0.999)\n",
    "    q2 = pd.DataFrame(X[:, 1]).quantile(0.999)\n",
    "    print(q1[0])\n",
    "    print(q2[0])\n",
    "    residual_no_outliers = residual_aging.iloc[:,np.asarray([j for j in \\\n",
    "                                                             range(len(residual_aging.columns)) \\\n",
    "                                                             if X[j, 0] < q1[0] and X[j, 1] < q2[0]])]\n",
    "    print(str(residual_aging.shape[0] - residual_no_outliers.shape[0]) + \" outliers removed\")\n",
    "    \n",
    "    subj_ids = [subject_id.split(\"-\")[0]+\"-\"+subject_id.split(\"-\")[1] for subject_id in \\\n",
    "                residual_no_outliers.columns.tolist()]\n",
    "    ages = [np.asarray(subjectMetaData.loc[subjectMetaData.index==subject_id,'AGE'])[0] \\\n",
    "                   for subject_id in subj_ids]\n",
    "    SMRINs = [np.asarray(sampleMetaData.loc[sampleMetaData.index==sample_id,'SMRIN'])[0] \\\n",
    "                   for sample_id in residual_no_outliers.columns.tolist()]\n",
    "    SMTSISCHs = [np.asarray(sampleMetaData.loc[sampleMetaData.index==sample_id,'SMTSISCH'])[0] \\\n",
    "                   for sample_id in residual_no_outliers.columns.tolist()]\n",
    "    return residual_no_outliers, ages, SMRINs, SMTSISCHs"
   ]
  },
  {
   "cell_type": "code",
   "execution_count": 13,
   "metadata": {},
   "outputs": [
    {
     "name": "stdout",
     "output_type": "stream",
     "text": [
      "Muscle\n",
      "9098 genes with no correlation with age\n",
      "first 50 components explain 0.9998112297541027 variability\n",
      "(803, 803)\n",
      "66990.76865243583\n",
      "76452.38636553532\n",
      "0 outliers removed\n",
      "Blood Vessel\n",
      "8429 genes with no correlation with age\n",
      "first 50 components explain 0.9984083167856997 variability\n",
      "(1335, 1335)\n",
      "103462.36856554539\n",
      "24082.78332071499\n",
      "0 outliers removed\n"
     ]
    },
    {
     "data": {
      "image/png": "[encoded data removed]",
      "text/plain": [
       "<Figure size 504x360 with 1 Axes>"
      ]
     },
     "metadata": {
      "needs_background": "light"
     },
     "output_type": "display_data"
    },
    {
     "data": {
      "image/png": "[encoded data removed]",
      "text/plain": [
       "<Figure size 504x360 with 1 Axes>"
      ]
     },
     "metadata": {
      "needs_background": "light"
     },
     "output_type": "display_data"
    }
   ],
   "source": [
    "non_aging_expr = {}\n",
    "x_0 = {}\n",
    "residual = {}\n",
    "residual_aging = {}\n",
    "residual_no_outliers = {}\n",
    "ages = {}\n",
    "SMRINs = {}\n",
    "SMTSISCHs = {}\n",
    "\n",
    "for i, tissue in enumerate(tissues):\n",
    "        print(tissue)\n",
    "        \n",
    "        non_aging_expr[tissue] = define_non_age_related_genes(data[tissue], age[tissue])\n",
    "        x_0[tissue] = svd(non_aging_expr[tissue], n_comp=50)\n",
    "        residual[tissue] = regress_covariates(data[tissue], x_0[tissue])\n",
    "        residual_aging[tissue] = exclude_non_age_related_genes(residual[tissue], \\\n",
    "                                                               non_aging_expr[tissue].index.tolist())\n",
    "        residual_no_outliers[tissue], ages[tissue], SMRINs[tissue], SMTSISCHs[tissue] = \\\n",
    "        detect_outliers(residual_aging[tissue], tissue)"
   ]
  },
  {
   "cell_type": "markdown",
   "metadata": {},
   "source": [
    "## Build the model predicting age with Lasso"
   ]
  },
  {
   "cell_type": "code",
   "execution_count": 14,
   "metadata": {},
   "outputs": [],
   "source": [
    "def split_train_valid_test(num_examples,training_proportion,validation_proportion,test_proportion):\n",
    "    assert training_proportion<=1.0\n",
    "    assert validation_proportion<=1.0\n",
    "    assert test_proportion<=1.0\n",
    "    assert (training_proportion+validation_proportion+test_proportion)<=1.0\n",
    "\n",
    "    idx_shuff=np.random.RandomState(seed=77).permutation(range(num_examples))\n",
    "\n",
    "    training_threshold=int(num_examples*training_proportion)\n",
    "    validation_threshold=int(num_examples*(training_proportion+validation_proportion))\n",
    "\n",
    "    training=range(training_threshold)\n",
    "    validation=range(training_threshold,min(validation_threshold,num_examples))\n",
    "    test=range(validation_threshold,num_examples)\n",
    "\n",
    "    return(idx_shuff[list(training)],idx_shuff[list(validation)],idx_shuff[list(test)])"
   ]
  },
  {
   "cell_type": "code",
   "execution_count": 17,
   "metadata": {},
   "outputs": [],
   "source": [
    "def fit_lasso_model(residual_no_outliers, ages, tol):\n",
    "    \"\"\" Build an age predictor with the lasso model and estimate its performance.\n",
    "    \n",
    "     Parameters\n",
    "    ----------\n",
    "    residual_no_outliers: pd.DataFrame\n",
    "        gene expression for a tissue after all preprocessing: \\\n",
    "        - QC of genes and samples\n",
    "        - regression of technical and phenotipic covariates explaining most of the variability \\\n",
    "            (except age, we need this variability, so we don't regress it out)\n",
    "        - removal of outliers\n",
    "    ages : np.array, int\n",
    "        ages of samples in a tissue gene expression matrix\n",
    "    tol : float, default=1e-4\n",
    "        tolerance for the optimization in the lasso model\n",
    "        \n",
    "     Outputs\n",
    "    ----------\n",
    "    genes : np.array, str\n",
    "        genes that are predictive of the age according to the lasso model\n",
    "    score : float\n",
    "        coefficient of determination R^2 of the prediction\n",
    "    pearsonr : float\n",
    "        Pearson's correlation coefficient\n",
    "    ages_test : np.array, int\n",
    "        true ages for the test set\n",
    "    ages_pred_test : np.array, int\n",
    "        predicted ages for the test set\n",
    "    \"\"\"\n",
    "    ages_all = ages\n",
    "    \n",
    "    # built the age prediction model with the lasso algorithm with cross-validation\n",
    "    X = residual_no_outliers.transpose()\n",
    "    y = ages_all\n",
    "    \n",
    "    # you can try a different model here\n",
    "    reg = LassoCV(cv=5, random_state=0, tol = tol).fit(X, y)\n",
    "    score = reg.score(X, y)\n",
    "    \n",
    "    # select genes predictive of age chosen by the lasso model\n",
    "    genes = [residual_no_outliers.index[i] for i in range(residual_no_outliers.shape[0]) if reg.coef_[i]!=0]\n",
    "    expr_sel_genes = residual_no_outliers.loc[genes,:]\n",
    "    \n",
    "    # split dataset into training, validation, and test sets\n",
    "    train, test, val = split_train_valid_test(residual_no_outliers.shape[1], 0.7, 0.3, 0)\n",
    "    ages_train = np.asarray([ages[i] for i in train])\n",
    "    ages_test = np.asarray([ages[i] for i in test])\n",
    "    \n",
    "    # calculate age predicted by the model and \n",
    "    # correlation of the predicted age with chronological age\n",
    "    coeffs_final, intercepts_final, prediction_final = \\\n",
    "    linear_regression(expr_sel_genes.iloc[:,train].transpose(), ages_train) \n",
    "    ages_pred_test = intercepts_final + \\\n",
    "    np.asmatrix(expr_sel_genes.iloc[:,test].transpose())*np.asmatrix(coeffs_final).transpose()\n",
    "    ages_pred_test = [np.asarray(age)[0][0] for age in ages_pred_test]\n",
    "    pearsonr = ss.pearsonr(ages_pred_test, ages_test)\n",
    "    print(pearsonr)\n",
    "    \n",
    "    # plot clock prediction\n",
    "    fig, ax = plt.subplots(1, 1, figsize=(7, 5))\n",
    "    ax.scatter(ages_test, ages_pred_test)\n",
    "    ax.set_xlabel(\"Chronological age, years\", fontsize = xlabel_fontsize)\n",
    "    ax.set_ylabel(\"Predicted age, years\", fontsize = ylabel_fontsize)\n",
    "    ax.set_title(str(tissue),  fontsize = title_fontsize)\n",
    "    textstr = \"Pearson's r=\" + str(round(pearsonr[0],2))\n",
    "    props = dict(boxstyle='round', facecolor='wheat', alpha=0.5)\n",
    "    ax.text(0.05, 0.95, textstr, transform=ax.transAxes, fontsize=14, verticalalignment='top', bbox=props)\n",
    "    plt.tight_layout()\n",
    "    pp = \"/om2/user/elvira/figures/Aging_clock/Clock_\" + str(tissue) + figure_format\n",
    "#     plt.savefig(pp, format = figure_format)\n",
    "    return(genes, score, pearsonr, ages_test, ages_pred_test)"
   ]
  },
  {
   "cell_type": "code",
   "execution_count": 45,
   "metadata": {},
   "outputs": [],
   "source": [
    "import scipy.stats as st\n",
    "import xgboost\n",
    "from sklearn.model_selection import RandomizedSearchCV\n",
    "\n",
    "def xgboost_model(x_train, y_train, x_test, n_iter=2, cv=5): # adapted from UROP work, changed n_iter from 10 to 2\n",
    "#     n_estimators = [150, 200, 250] #[int(x) for x in np.linspace(start = 32, stop = 96, num=4)]\n",
    "#     max_depth = [10, 15, 20, 25] #max_depth = st.randint(10,41)\n",
    "#     learning_rate = [0.05] #st.uniform(0.0005,0.5) #st.uniform(0.0005,0.5) #[0.05] #learning_rate = st.uniform(0.0005,0.5)\n",
    "#     gamma = [10] #gamma = st.uniform(0,10)\n",
    "#     one_to_left = [0.6, 0.7, 0.8, 0.9, 1] #same\n",
    "#     min_child_weight = [6, 8, 10] #st.expon(0, 50) #same; used to be [6, 8, 10]\n",
    "#     from_zero_positive = [0, 0.5, 1] #st.expon(0, 10) #same\n",
    "#     reg_lambda = st.expon(0, 10) #same\n",
    "#     nthread = [1]\n",
    "#     scale_pos_weight = [1,2,3,4,5,6,7,8,9,10] #scale_pos_weight (1:1 ratio) as we match class imbalance #[1,2,3,4,5,6,7,8,9,10]\n",
    "#     subsample = [0.6, 0.8, 1]\n",
    "#     random_grid = {'n_estimators': n_estimators,\n",
    "#                'max_depth': max_depth,\n",
    "#                 'learning_rate':learning_rate,\n",
    "#                 \"colsample_bytree\": one_to_left,\n",
    "#                 \"subsample\": subsample,\n",
    "#                 'reg_lambda': reg_lambda,\n",
    "#                 'reg_alpha': from_zero_positive,\n",
    "#                 \"min_child_weight\": min_child_weight,\n",
    "#                 'gamma':gamma,\n",
    "#                 'nthread':nthread,\n",
    "#                 'scale_pos_weight':scale_pos_weight}\n",
    "#     xgb_tune = xgboost.XGBClassifier(missing=np.nan)\n",
    "\n",
    "#     dtrain = xgb.DMatrix('demo/data/agaricus.txt.train')\n",
    "#     dtest = xgb.DMatrix('demo/data/agaricus.txt.test')\n",
    "    # specify parameters via map\n",
    "#     param = {'n_estimators': 10,\n",
    "#                'max_depth': 10,\n",
    "#                 'learning_rate':0.05,\n",
    "#                 \"colsample_bytree\": 0.6,\n",
    "#                 \"subsample\": 0.6,\n",
    "#                 'reg_lambda': 0.5,\n",
    "#                 'reg_alpha': 0.5,\n",
    "#                 \"min_child_weight\": 6,\n",
    "#                 'gamma':10,\n",
    "#                 'nthread':1,\n",
    "#                 'scale_pos_weight':2}\n",
    "    param = {'n_estimators': 20}\n",
    "#     num_round = 2\n",
    "    clf = xgboost.XGBRegressor()\n",
    "    clf.set_params(**param)\n",
    "    clf.fit(x_train, y_train)\n",
    "    print(\"model trained\")\n",
    "    \n",
    "    preds = clf.predict(x_test)\n",
    "    return preds\n",
    "#     bst = xgboost.train(param, x_train, num_round)\n",
    "#     # make prediction\n",
    "# #     preds = bst.predict(dtest)\n",
    "#     return bst\n",
    "\n",
    "    \n",
    "#     print(\"done prior to search\")\n",
    "#     xgb_hyper = RandomizedSearchCV(xgb_tune,random_grid, n_iter = n_iter, cv = cv, random_state=42, n_jobs = -1,scoring='roc_auc', return_train_score = True)\n",
    "#     xgb_hyper.fit(x_train, y_train)\n",
    "#     print(\"done after search\")\n",
    "#     parameter_tuning = xgb_hyper.cv_results_\n",
    "#     parameter_tuning = pd.DataFrame(parameter_tuning)\n",
    "#     print(parameter_tuning) \n",
    "#     return xgb_hyper.best_estimator_,parameter_tuning "
   ]
  },
  {
   "cell_type": "code",
   "execution_count": 42,
   "metadata": {},
   "outputs": [],
   "source": [
    "def fit_xgboost_model(residual_no_outliers, ages):\n",
    "    \"\"\" Build an age predictor with the xgboost model and estimate its performance.\n",
    "    \n",
    "     Parameters\n",
    "    ----------\n",
    "    residual_no_outliers: pd.DataFrame\n",
    "        gene expression for a tissue after all preprocessing: \\\n",
    "        - QC of genes and samples\n",
    "        - regression of technical and phenotipic covariates explaining most of the variability \\\n",
    "            (except age, we need this variability, so we don't regress it out)\n",
    "        - removal of outliers\n",
    "    ages : np.array, int\n",
    "        ages of samples in a tissue gene expression matrix\n",
    "        \n",
    "     Outputs\n",
    "    ----------\n",
    "    genes : np.array, str\n",
    "        genes that are predictive of the age according to the lasso model\n",
    "    score : float\n",
    "        coefficient of determination R^2 of the prediction\n",
    "    pearsonr : float\n",
    "        Pearson's correlation coefficient\n",
    "    ages_test : np.array, int\n",
    "        true ages for the test set\n",
    "    ages_pred_test : np.array, int\n",
    "        predicted ages for the test set\n",
    "    \"\"\"\n",
    "    ages_all = ages\n",
    "    \n",
    "    # built the age prediction model with the lasso algorithm with cross-validation\n",
    "    X = residual_no_outliers.transpose()\n",
    "    y = ages_all\n",
    "    \n",
    "    # split dataset into training, validation, and test sets\n",
    "    train, test, val = split_train_valid_test(residual_no_outliers.shape[1], 0.7, 0.3, 0)\n",
    "    ages_train = np.asarray([ages[i] for i in train])\n",
    "    ages_test = np.asarray([ages[i] for i in test])\n",
    "    \n",
    "    # calculate age predicted by the model and \n",
    "    # correlation of the predicted age with chronological age\n",
    "#     coeffs_final, intercepts_final, prediction_final = \\\n",
    "#     linear_regression(expr_sel_genes.iloc[:,train].transpose(), ages_train) \n",
    "#     ages_pred_test = intercepts_final + \\\n",
    "#     np.asmatrix(expr_sel_genes.iloc[:,test].transpose())*np.asmatrix(coeffs_final).transpose()\n",
    "    \n",
    "    x_train = residual_no_outliers.iloc[:,train].transpose()\n",
    "    x_test = residual_no_outliers.iloc[:,test].transpose()\n",
    "    print(\"data done\")\n",
    "    print(x_train.shape, x_test.shape, ages_train.shape)\n",
    "    ages_pred_test = xgboost_model(x_train, ages_train, x_test)\n",
    "    print(\"predictions made\")\n",
    "\n",
    "#     coeffs_final, intercepts_final, prediction_final = \\\n",
    "#     xgboost_model(residual_no_outliers.iloc[:,train].transpose(), ages_train) \n",
    "#     ages_pred_test = intercepts_final + \\\n",
    "#     np.asmatrix(residual_no_outliers.iloc[:,test].transpose())*np.asmatrix(coeffs_final).transpose()\n",
    "    \n",
    "#     ages_pred_test = [np.asarray(age)[0][0] for age in ages_pred_test]\n",
    "    pearsonr = ss.pearsonr(ages_pred_test, ages_test)\n",
    "    print(pearsonr)\n",
    "    \n",
    "    # plot clock prediction\n",
    "    fig, ax = plt.subplots(1, 1, figsize=(7, 5))\n",
    "    ax.scatter(ages_test, ages_pred_test)\n",
    "    ax.set_xlabel(\"Chronological age, years\", fontsize = xlabel_fontsize)\n",
    "    ax.set_ylabel(\"Predicted age, years\", fontsize = ylabel_fontsize)\n",
    "    ax.set_title(str(tissue),  fontsize = title_fontsize)\n",
    "    textstr = \"Pearson's r=\" + str(round(pearsonr[0],2))\n",
    "    props = dict(boxstyle='round', facecolor='wheat', alpha=0.5)\n",
    "    ax.text(0.05, 0.95, textstr, transform=ax.transAxes, fontsize=14, verticalalignment='top', bbox=props)\n",
    "    plt.tight_layout()\n",
    "    pp = \"/om2/user/elvira/figures/Aging_clock/Clock_\" + str(tissue) + figure_format\n",
    "#     plt.savefig(pp, format = figure_format)\n",
    "#     return(genes, score, pearsonr, ages_test, ages_pred_test)\n",
    "    return(pearsonr, ages_test, ages_pred_test)"
   ]
  },
  {
   "cell_type": "code",
   "execution_count": 46,
   "metadata": {
    "scrolled": false
   },
   "outputs": [
    {
     "name": "stdout",
     "output_type": "stream",
     "text": [
      "Muscle\n",
      "data done\n",
      "(560, 19544) (241, 19544) (560,)\n",
      "model trained\n",
      "predictions made\n",
      "(0.550276504595733, 1.7723206474563658e-20)\n",
      "Blood Vessel\n",
      "data done\n",
      "(931, 21218) (400, 21218) (931,)\n",
      "model trained\n",
      "predictions made\n",
      "(0.6972136170123839, 1.6630916175126988e-59)\n"
     ]
    },
    {
     "data": {
      "image/png": "[encoded data removed]",
      "text/plain": [
       "<Figure size 504x360 with 1 Axes>"
      ]
     },
     "metadata": {
      "needs_background": "light"
     },
     "output_type": "display_data"
    },
    {
     "data": {
      "image/png": "[encoded data removed]",
      "text/plain": [
       "<Figure size 504x360 with 1 Axes>"
      ]
     },
     "metadata": {
      "needs_background": "light"
     },
     "output_type": "display_data"
    }
   ],
   "source": [
    "genes_clock = {}\n",
    "score = {}\n",
    "pearson_corr = {}\n",
    "prediction = {}\n",
    "true = {}\n",
    "\n",
    "newAges = {}\n",
    "for i, tissue in enumerate(tissues[:2]):\n",
    "    print(tissue)\n",
    "#     genes_clock[tissue], score[tissue], pearson_corr[tissue], true[tissue], prediction[tissue] = \\\n",
    "#     fit_lasso_model(residual_no_outliers[tissue], ages[tissue], tol=0.1)    \n",
    "    \n",
    "    pearson_corr[tissue], true[tissue], prediction[tissue] = \\\n",
    "    fit_xgboost_model(residual_no_outliers[tissue], ages[tissue])"
   ]
  },
  {
   "cell_type": "code",
   "execution_count": 44,
   "metadata": {},
   "outputs": [
    {
     "name": "stdout",
     "output_type": "stream",
     "text": [
      "(0.5331513084802666, 4.216670192615751e-19) [49 33 34 33 50 48 68 61 63 27 66 68 59 51 22 57 51 55 54 45 69 56 49 60\n",
      " 45 44 54 68 55 50 56 65 69 64 52 25 62 57 51 63 32 31 56 58 44 65 49 43\n",
      " 59 69 69 49 59 42 46 69 54 70 69 57 31 70 60 63 56 48 56 32 55 44 69 61\n",
      " 35 57 69 55 30 61 54 68 45 33 39 32 56 61 48 42 22 53 46 63 65 60 52 67\n",
      " 46 46 67 63 47 63 65 40 70 27 50 47 59 67 49 56 59 29 56 69 59 70 51 55\n",
      " 60 58 54 54 49 63 68 27 24 60 61 50 22 53 50 67 47 51 68 68 58 55 44 51\n",
      " 62 55 35 68 48 61 50 51 28 62 61 50 50 43 59 46 54 27 61 68 67 52 67 64\n",
      " 48 30 59 59 54 50 61 66 34 66 64 55 66 70 63 54 70 58 70 47 54 46 26 52\n",
      " 50 61 41 54 62 63 66 56 60 37 61 23 59 59 62 54 59 57 63 56 63 46 53 51\n",
      " 39 65 67 67 55 64 27 60 63 62 43 66 49 46 56 70 65 57 45 61 21 59 62 30\n",
      " 42] [22.542353  13.811145  21.657028  21.378828  19.21479   23.274323\n",
      " 19.974226  16.359093  24.153994  20.067028  20.228565  25.476183\n",
      " 20.11365   20.117535  12.709487  23.036236  22.886225  24.791138\n",
      " 19.805496  18.934824  20.618462  21.73732   20.820972  19.674906\n",
      " 20.035242  21.225075  18.965534  22.3956    21.691332  22.33027\n",
      " 21.867361  23.875006  24.118116  24.226023  24.780165  19.332521\n",
      " 24.368328  25.3188    24.771196  20.58326   21.328085  18.718365\n",
      " 20.945147  19.01572   21.42007   22.974325  19.32569   22.67442\n",
      " 21.470997  21.850422  25.010221  22.03678   18.955303  23.55225\n",
      " 21.607769  23.665825  17.10029   21.387646  23.1252    21.242775\n",
      " 18.54039   22.689205  21.606907  23.70564   22.734413  18.078875\n",
      " 22.476318  19.44943   20.146452  21.205988  23.188969  20.779373\n",
      " 16.670525  21.794556  19.770576  19.667652  13.49084   20.607096\n",
      " 18.265976  23.754587  19.14288   20.87686   21.10436   15.1002245\n",
      " 24.192574  21.487865  21.357573  24.483585  14.541123  24.01164\n",
      " 21.771664  23.252449  25.167603  23.138044  20.93298   20.501293\n",
      " 21.94882   16.18834   21.578703  22.254187  20.759237  21.060957\n",
      " 24.873096  21.06012   21.134323  19.818691  21.550186  20.122963\n",
      " 24.122656  24.240618  18.518461  20.988453  18.830753  20.58993\n",
      " 20.71924   22.198614  20.346579  24.37758   19.216743  23.185307\n",
      " 18.388992  19.215704  20.352505  22.25872   23.155651  23.095875\n",
      " 20.069956  18.865473  16.838627  23.325073  23.316055  20.49121\n",
      " 19.369452  21.200459  22.074448  18.1939    22.099977  22.15336\n",
      " 21.766006  22.274149  20.883457  22.783272  17.067007  18.423008\n",
      " 24.082333  21.722889  17.253536  24.143597  25.167603  22.610777\n",
      " 22.562298  19.0481    22.20191   23.70111   20.440777  16.924328\n",
      " 21.298489  19.603014  22.414446  16.92099   14.712078  17.196964\n",
      " 24.69575   21.367233  23.707342  21.249962  24.585958  17.698017\n",
      " 23.340551  15.263302  20.623432  25.186499  22.494938  20.620228\n",
      " 16.740494  22.383453  18.611973  23.935055  25.167603  20.490921\n",
      " 25.167603  20.19613   25.22968   14.898036  23.567059  22.420328\n",
      " 21.841295  23.894272  21.437534  21.136953  16.696962  19.403814\n",
      " 21.35522   23.622208  19.629251  21.490173  21.165564  25.3188\n",
      " 21.847227  23.14875   21.13564   18.208313  24.155422  17.002531\n",
      " 22.748993  23.384586  19.62433   18.992107  24.548086  23.172455\n",
      " 21.528528  21.267923  22.836176  21.498426  22.326889  24.604021\n",
      " 15.168904  23.071657  24.568665  23.297169  24.93449   23.021132\n",
      " 16.716854  23.388525  23.325024  21.256708  21.363045  23.938486\n",
      " 22.80652   23.207024  20.313108  24.618074  21.122423  22.597563\n",
      " 17.864618  21.005344  14.489369  23.080236  18.364588  24.143639\n",
      " 17.821991 ]\n",
      "(0.6748845015790436, 1.736571145932435e-54) [38 50 51 57 54 65 45 63 34 34 53 53 35 50 30 56 68 38 50 62 66 53 63 66\n",
      " 66 48 58 48 22 22 55 61 68 61 44 66 51 47 44 53 48 63 38 67 57 49 68 54\n",
      " 62 59 55 59 48 41 53 63 62 56 60 22 43 59 70 48 50 47 22 69 28 66 53 61\n",
      " 61 56 58 24 34 54 62 54 64 37 65 43 22 22 65 58 57 63 50 49 31 32 51 50\n",
      " 58 27 54 68 69 40 67 41 57 57 47 46 59 68 39 52 55 53 70 54 64 51 54 62\n",
      " 53 45 54 56 42 65 48 67 62 51 33 57 63 47 44 62 59 32 30 42 58 50 27 24\n",
      " 59 67 67 62 61 62 51 51 61 67 63 61 69 67 63 67 57 34 21 66 42 54 53 63\n",
      " 66 26 56 24 55 57 61 36 50 56 67 54 55 63 60 47 21 57 27 68 45 48 56 53\n",
      " 60 70 61 62 51 61 51 54 33 68 59 64 32 61 51 65 66 66 32 51 70 56 56 58\n",
      " 65 66 64 35 68 47 68 33 55 41 59 57 65 26 49 29 44 57 27 62 31 51 67 65\n",
      " 50 57 59 27 33 56 46 49 29 50 54 57 20 58 66 54 70 70 59 22 70 21 62 62\n",
      " 65 68 27 64 27 60 60 47 62 56 46 35 59 67 64 56 61 48 59 69 53 64 30 26\n",
      " 68 42 42 56 63 46 59 49 66 56 21 54 21 28 58 40 51 56 57 47 59 58 46 54\n",
      " 49 55 57 37 64 23 50 28 55 56 34 58 65 63 47 53 54 43 32 66 58 50 42 67\n",
      " 41 56 65 53 45 48 70 40 51 60 68 30 65 50 31 54 30 27 44 56 45 57 64 69\n",
      " 24 55 48 64 61 22 53 59 49 49 22 67 64 36 68 70 59 66 48 57 53 55 47 40\n",
      " 66 68 63 64 47 52 53 44 52 61 66 52 55 68 25 60] [14.722232  15.394176  19.523804  23.557037  21.53072   25.29498\n",
      " 19.621096  22.74852   16.21714   19.04299   20.916216  23.696457\n",
      " 20.62731   24.819958  22.536295  21.401594  23.346548  17.218533\n",
      " 22.04374   22.420588  23.212582  14.749985  23.803556  23.175196\n",
      " 21.85588   20.12013   23.303022  16.24171   13.894471  19.04637\n",
      " 19.386066  21.534748  23.986084  24.718126  19.80163   21.499805\n",
      " 24.897367  22.676311  19.023647  23.503742  23.421173  22.61\n",
      " 20.12777   23.879349  23.365917  22.034756  23.660666  22.128895\n",
      " 20.397959  19.957737  19.838797  22.349335  20.959196  22.765999\n",
      " 18.356985  23.436657  24.929695  18.591833  23.696064  20.733002\n",
      " 20.213617  24.717642  25.030464  16.594797  23.5739    18.266441\n",
      " 13.183519  24.628513  12.945549  24.191814  19.4152    23.972122\n",
      " 23.81623   21.613693  19.962528  11.606424  19.501173  16.718931\n",
      " 23.191816  22.604635  23.205004  18.680143  24.156221  19.515608\n",
      " 13.218032  15.956848  21.853308  25.161882  24.461788  18.886427\n",
      " 21.553818  18.462864  10.965788  19.18422   23.257942  23.650612\n",
      " 22.953787  19.483322  20.243382  23.302845  24.162506  14.216991\n",
      " 24.391323  21.945131  23.552006  23.992727  24.321136  19.151442\n",
      " 22.143171  23.141672  14.581784  20.708164  22.425547  22.524721\n",
      " 19.479828  24.761446  18.094425  21.325869  23.427744  22.785933\n",
      " 19.40551   23.247324  22.292534  13.767979  18.390606  23.286716\n",
      " 24.411081  24.341415  24.758226  23.124786  19.80298   22.925028\n",
      " 19.975876  21.567524  21.007431  24.79726   20.808512  16.393398\n",
      " 18.00728   23.376333  24.083385  18.035175  12.6677885 18.402355\n",
      " 21.069017  23.106815  19.354593  23.724936  24.319967  21.542385\n",
      " 14.198709  20.665535  22.25577   24.504301  24.93318   23.282091\n",
      " 22.1454    22.447548  20.630613  21.42799   24.735123  14.911265\n",
      " 23.041279  22.181427  17.966148  18.723326  22.408035  23.156204\n",
      " 15.327799  15.830062  21.480453  17.68416   18.201187  22.949705\n",
      " 24.055359  18.777838  20.050611  18.80708   22.878256  23.322618\n",
      " 23.210192  23.88122   24.019907  19.32023   19.06885   22.36137\n",
      " 16.393576  24.190422  19.724138  20.528887  23.074772  21.800688\n",
      " 24.016653  24.045403  21.99246   22.867968  22.633495  24.237398\n",
      " 18.01149   21.273952  21.295546  24.297762  24.394293  23.62348\n",
      " 12.524337  20.85693   23.068441  24.920206  24.681597  23.011202\n",
      " 19.496897  18.526648  24.807438  23.70497   22.250013  22.535444\n",
      " 21.6482    25.29498   21.638857  17.943281  19.635855  16.134912\n",
      " 25.0929    14.279444  22.981241  20.296785  19.446424  21.216734\n",
      " 24.842796  11.778297  24.830402  17.144062  21.676065  20.025496\n",
      " 17.533657  24.920311  20.384293  23.093895  24.089872  23.940887\n",
      " 16.9495    23.012518  23.990894  20.251966  16.47044   16.95116\n",
      " 21.894846  23.615505  14.63178   22.007816  22.564781  20.156225\n",
      " 15.832964  23.286137  23.899063  17.535307  23.860779  24.332329\n",
      " 21.372513  20.137354  23.446762  23.318235  22.473019  21.767305\n",
      " 23.435034  22.567448  13.847551  23.50309   15.888479  20.69146\n",
      " 24.064375  24.21865   22.897284  17.241646  22.887238  17.481014\n",
      " 20.387878  19.200151  24.254639  19.956766  21.02777   14.606414\n",
      " 22.79639   25.29498   19.577585  22.881266  13.719947  14.114331\n",
      " 25.29498   20.196941  20.356495  18.693796  25.161882  16.030483\n",
      " 22.496876  22.480509  24.334206  19.433617  15.166922  21.632381\n",
      " 13.160409  18.33013   21.080862  21.535095  17.861362  20.387201\n",
      " 24.16583   19.733751  23.382318  23.3335    20.876816  18.061766\n",
      " 18.964647  21.894466  23.157276  17.524445  24.417082  16.000162\n",
      " 17.7495    14.2110815 22.06235   16.555796  14.35334   23.23011\n",
      " 25.014608  24.186852  21.296965  15.343571  24.266737  18.625715\n",
      " 18.324919  24.670708  20.30644   24.897367  19.074383  24.951376\n",
      " 21.777756  20.741999  22.214369  19.858343  17.267912  18.347937\n",
      " 24.546062  19.848486  22.82081   22.673893  21.346294  24.178373\n",
      " 22.388155  22.79452   18.585646  22.567875  17.102612  14.813466\n",
      " 22.498837  22.167221  20.72184   22.070518  20.939814  21.998005\n",
      " 14.39129   15.617542  19.794804  22.888588  23.09832   17.260948\n",
      " 21.870787  20.005884  22.042828  20.331259  11.298127  22.209846\n",
      " 23.912937  18.569801  21.671589  22.191343  24.529608  23.615946\n",
      " 17.248135  25.161882  23.526836  22.145683  16.846977  20.698086\n",
      " 25.084473  25.161882  22.613344  20.677385  19.092329  21.426552\n",
      " 21.799732  17.708284  22.702766  24.257517  25.053303  23.136108\n",
      " 24.146614  23.801968  11.409504  23.056501 ]\n"
     ]
    }
   ],
   "source": [
    "for i, tissue in enumerate(tissues[:2]):\n",
    "    print(pearson_corr[tissue], true[tissue], prediction[tissue])"
   ]
  },
  {
   "cell_type": "markdown",
   "metadata": {},
   "source": [
    "# Additional analysis"
   ]
  },
  {
   "cell_type": "markdown",
   "metadata": {},
   "source": [
    "### Comparing prediction accuracy for different tissues"
   ]
  },
  {
   "cell_type": "code",
   "execution_count": null,
   "metadata": {},
   "outputs": [],
   "source": [
    "fig, ax = plt.subplots(figsize=(11,8))\n",
    "n=2\n",
    "x_coords = np.arange(0,n*len(tissues), n)\n",
    "ax.set_xticks(np.arange(0,n*len(tissues), n))\n",
    "coeff = np.asarray([pearson_corr[tissue][0] for tissue in tissues])\n",
    "ax.set_xticklabels([tissues[i] for i in np.argsort(coeff)[::-1]], rotation=45, fontsize=xlabel_fontsize)\n",
    "ax.bar(x_coords, coeff[np.argsort(coeff)[::-1]], \\\n",
    "    color='C0', edgecolor='white')\n",
    "ax.set_ylabel('Pearson correlation coefficient', fontsize=ylabel_fontsize) \n",
    "plt.tight_layout()\n",
    "pp = \"/Users/elvirakinzina/src/Aging_clock/Pictures/Number_of_genes_and_correlation.\" + figure_format\n",
    "# plt.savefig(pp, format = figure_format)\n"
   ]
  },
  {
   "cell_type": "markdown",
   "metadata": {},
   "source": [
    "## Define most important covariates\n",
    "These could be included in the model or regressed out to improve age prediction"
   ]
  },
  {
   "cell_type": "code",
   "execution_count": null,
   "metadata": {},
   "outputs": [],
   "source": [
    "def gaussian_project(data, standardize=True, noise=1e-6):\n",
    "    \"\"\" Project each row onto gaussian with matched mean, stdev \n",
    "\n",
    "    standardize : bool\n",
    "        project each row onto N(0, 1), otherwise use N(mu_row, sigma_row),\n",
    "        where mu_row is the mean of the row and sigma_row is the standard\n",
    "        deviation\n",
    "    noise : float\n",
    "        add random noise drawn from interval (0, noise) to break ties\n",
    "    \"\"\"\n",
    "    # add random noise to break ties\n",
    "    err = np.random.random(data.shape) * noise\n",
    "    data = data + err\n",
    "\n",
    "    ppt = data.rank(axis=1) / (float(data.shape[1])+1.)\n",
    "    if standardize:\n",
    "        df = pd.DataFrame(ss.norm.ppf(ppt), index=ppt.index, \n",
    "                          columns=ppt.columns)\n",
    "    else:\n",
    "        mu = data.mean(axis=1)\n",
    "        sigma = data.std(axis=1)\n",
    "        df = {}\n",
    "        for r in ppt.index:\n",
    "            df[r] = pd.Series(ss.norm.ppf(ppt.loc[r], loc=mu.loc[r],\n",
    "                                          scale=sigma.loc[r]), index=ppt.columns)\n",
    "        df = pd.DataFrame(df).T\n",
    "    return df\n",
    "def find_covars_corr_with_first_2_pcs(tissue, data, ax):\n",
    "        dt = data.copy()\n",
    "        dt_g = gaussian_project(dt)\n",
    "\n",
    "        pca = PCA().fit(dt_g)\n",
    "\n",
    "        # extract principal components\n",
    "        comps = pd.DataFrame(pca.components_.T, index=dt_g.columns,\n",
    "                             columns=['PC%i' % (i+1) for i in range(len(pca.components_))])\n",
    "        \n",
    "        # choose potential important covariates (add whatever you are interesred in)\n",
    "        covars = ['SMRIN', 'SMTSISCH', 'TRISCHD', 'ETHNCTY', 'RACE', 'AGE', 'BMI', 'SMNTRNRT', 'DTHRFG', 'DTHVNT', \\\n",
    "                  'SMATSSCR', 'SMALTALG', 'DTHHRDY', 'DTHHRDY']\n",
    "        print('components', pca.explained_variance_ratio_[0:10])\n",
    "    \n",
    "        if np.fabs(sum(pca.explained_variance_ratio_)-1)>0.1:\n",
    "            print('sum', sum(pca.explained_variance_ratio_))\n",
    "        \n",
    "        covs_r = {}\n",
    "        covs_p = {}\n",
    "        for pc in ['PC{}'.format(i+1) for i in range(10)]:\n",
    "            _r = {}\n",
    "            _p = {}\n",
    "            for cv in covars:\n",
    "                if cv in sampleMetaData.columns:\n",
    "                    covar_vals = np.asarray(sampleMetaData.loc[comps.index, cv])\n",
    "                elif cv in subjectMetaData.columns:\n",
    "                    sample_subject_ids = [index.split(\"-\")[0] + \"-\" + index.split(\"-\")[1] \\\n",
    "                                 for index in list(comps.index)]\n",
    "                    covar_vals = np.asarray(subjectMetaData.loc[sample_subject_ids, cv])\n",
    "                _r[cv], _p[cv] = ss.pearsonr(covar_vals[np.isfinite(covar_vals)], \\\n",
    "                                             comps.loc[np.isfinite(covar_vals), pc])\n",
    "                covs_r[pc] = pd.Series(_r)\n",
    "                covs_p[pc] = pd.Series(_p)\n",
    "        covs_r = pd.DataFrame(covs_r).loc[:, ['PC{}'.format(i+1) for i in range(10)]]\n",
    "        covs_p = pd.DataFrame(covs_p).loc[:, ['PC{}'.format(i+1) for i in range(10)]]\n",
    "\n",
    "        covarsMain = [covar for covar in covars if (covs_p.loc[covar,:][0:10]<0.05).any()==True]\n",
    "        first_2_pcs_pars = [covar for covar in covars if (covs_p.loc[covar,:][0:2]<0.05).any()==True]\n",
    "        ax.set_title(tissue)\n",
    "        sns.heatmap(-1*np.log10(covs_p.loc[covarsMain,:]), ax=ax, vmax=10, annot=True, fmt=\".1f\")\n",
    "        return(first_2_pcs_pars)"
   ]
  },
  {
   "cell_type": "code",
   "execution_count": null,
   "metadata": {},
   "outputs": [],
   "source": [
    "fig, ax = plt.subplots(1, 1, figsize=(7, 5))\n",
    "first_2_pcs_pars = find_covars_corr_with_first_2_pcs('Muscle', data['Muscle'], ax)"
   ]
  },
  {
   "cell_type": "code",
   "execution_count": null,
   "metadata": {},
   "outputs": [],
   "source": [
    "fig, ax = plt.subplots(1, 1, figsize=(7, 5))\n",
    "first_2_pcs_pars = find_covars_corr_with_first_2_pcs('Esophagus', data['Esophagus'], ax)"
   ]
  },
  {
   "cell_type": "markdown",
   "metadata": {},
   "source": [
    "## Color PCA by parameter (age, RNA quality, ischemic time before) values to explore important parameters for each tissue"
   ]
  },
  {
   "cell_type": "markdown",
   "metadata": {},
   "source": [
    "You can look at other technical or phenotypic covariates to find those that can possibly explain PCA patterns for tissues that clearly have clusters: skin and esophagus"
   ]
  },
  {
   "cell_type": "code",
   "execution_count": null,
   "metadata": {},
   "outputs": [],
   "source": [
    "def plot_pca_colored_by(data, parameter):\n",
    "    fig, ax = plt.subplots(1, 1, figsize=(7, 5))\n",
    "    pca = decomposition.PCA(n_components=2)\n",
    "    X = data.transpose().copy()\n",
    "    pca.fit(X)\n",
    "    y = np.asarray(parameter)\n",
    "    X = pca.transform(X)\n",
    "    y_no_na = y[np.where(np.isfinite(y))]\n",
    "    y_min = np.min(y_no_na)\n",
    "    y_max = np.max(y_no_na)\n",
    "    \n",
    "    for i in range(len(X[:, 0])):\n",
    "        if np.isfinite(y[i]):\n",
    "            alpha = float((y[i]-y_min)/float(y_max-y_min))\n",
    "            ax.scatter(X[i, 0], X[i, 1], color = 'green', alpha = alpha, s=15)"
   ]
  },
  {
   "cell_type": "code",
   "execution_count": null,
   "metadata": {},
   "outputs": [],
   "source": [
    "plot_pca_colored_by(residual_no_outliers[\"Esophagus\"], SMTSISCH[\"Esophagus\"])"
   ]
  },
  {
   "cell_type": "markdown",
   "metadata": {},
   "source": [
    "## Sample size of each tissue\n",
    "I chose top 8 tissues for the analysis above"
   ]
  },
  {
   "cell_type": "code",
   "execution_count": null,
   "metadata": {},
   "outputs": [],
   "source": [
    "# tissues = list(set(sampleMetaData['SMTS']))\n",
    "# sample_num = dict()\n",
    "# for tissue in tissues:\n",
    "#         data[tissue], age[tissue], SMRIN[tissue], SMTSISCH[tissue] = load_data(tissue)\n",
    "#         sample_num[tissue] = data[tissue].shape[1]\n",
    "# out_file = \"/om2/user/elvira/src/data/GTEx_v8/rna_seq/Tissues_sample_numbers.pkl\"\n",
    "# with open(out_file, \"wb\") as f:\n",
    "#     pickle.dump(sample_num,f,pickle.HIGHEST_PROTOCOL)"
   ]
  },
  {
   "cell_type": "code",
   "execution_count": null,
   "metadata": {},
   "outputs": [],
   "source": [
    "sample_num = pd.read_pickle(\"/om2/user/elvira/src/data/GTEx_v8/rna_seq/Tissues_sample_numbers.pkl\")\n",
    "tissues = list(sample_num.keys())\n",
    "sample_numbers = np.asarray([sample_num[tissue] for tissue in tissues])\n",
    "indices = np.argsort(sample_numbers)[::-1]\n",
    "fig, ax = plt.subplots(1, 1, figsize=(7, 5))\n",
    "ax.bar(range(len(tissues)), sample_numbers[indices])\n",
    "ax.set_xticks(range(len(tissues)))\n",
    "ax.set_xticklabels([tissues[index] for index in indices], rotation = 90)"
   ]
  },
  {
   "cell_type": "markdown",
   "metadata": {},
   "source": [
    "## Plot sample age distribution for each tissue\n",
    "Most samples are from elderly since they die more often"
   ]
  },
  {
   "cell_type": "code",
   "execution_count": null,
   "metadata": {},
   "outputs": [],
   "source": [
    "for tissue in tissues:\n",
    "    fig, ax = plt.subplots(1, 1, figsize=(4, 3))\n",
    "    ax.hist(age[tissue])\n",
    "    ax.set_title(tissue, fontsize=title_fontsize)"
   ]
  }
 ],
 "metadata": {
  "kernelspec": {
   "display_name": "Python 3",
   "language": "python",
   "name": "python3"
  },
  "language_info": {
   "codemirror_mode": {
    "name": "ipython",
    "version": 3
   },
   "file_extension": ".py",
   "mimetype": "text/x-python",
   "name": "python",
   "nbconvert_exporter": "python",
   "pygments_lexer": "ipython3",
   "version": "3.7.4"
  }
 },
 "nbformat": 4,
 "nbformat_minor": 1
}
